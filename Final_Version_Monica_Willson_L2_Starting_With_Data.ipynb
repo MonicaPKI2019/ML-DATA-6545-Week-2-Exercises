{
  "nbformat": 4,
  "nbformat_minor": 0,
  "metadata": {
    "kernelspec": {
      "display_name": "Python 3",
      "language": "python",
      "name": "python3"
    },
    "language_info": {
      "codemirror_mode": {
        "name": "ipython",
        "version": 3
      },
      "file_extension": ".py",
      "mimetype": "text/x-python",
      "name": "python",
      "nbconvert_exporter": "python",
      "pygments_lexer": "ipython3",
      "version": "3.5.5"
    },
    "colab": {
      "provenance": []
    }
  },
  "cells": [
    {
      "cell_type": "markdown",
      "metadata": {
        "id": "xNwR-ZW8xMxc"
      },
      "source": [
        "# Read-in the Data"
      ]
    },
    {
      "cell_type": "markdown",
      "metadata": {
        "id": "bb1Ij_I0xMxg"
      },
      "source": [
        "Let's begin with read-in the data file.\n",
        "\n",
        "This data is about the populations in each year. \n",
        "\n",
        "We can read the file one line at a time and split each line using tab as a delimiter. Each row is added as a list to a table (in this case a list of lists)."
      ]
    },
    {
      "cell_type": "code",
      "metadata": {
        "id": "oMVqH6v_xQY4",
        "colab": {
          "base_uri": "https://localhost:8080/"
        },
        "outputId": "2eb04fc8-14cc-4408-b296-9381cd4747db"
      },
      "source": [
        "from google.colab import drive\n",
        "drive.mount('/content/drive')"
      ],
      "execution_count": null,
      "outputs": [
        {
          "output_type": "stream",
          "name": "stdout",
          "text": [
            "Drive already mounted at /content/drive; to attempt to forcibly remount, call drive.mount(\"/content/drive\", force_remount=True).\n"
          ]
        }
      ]
    },
    {
      "cell_type": "code",
      "metadata": {
        "id": "cM6pvrfgqWW0",
        "colab": {
          "base_uri": "https://localhost:8080/"
        },
        "outputId": "94ff630c-a4b7-4076-c3fd-9b347b455bae"
      },
      "source": [
        "# Run this to make sure you are in the correct folder\n",
        "%cd '/content/drive/My Drive/Classroom/DATA 6545: Data Science and MLOps SP2023/Week_2_Exercises'"
      ],
      "execution_count": null,
      "outputs": [
        {
          "output_type": "stream",
          "name": "stdout",
          "text": [
            "/content/drive/My Drive/Classroom/DATA 6545: Data Science and MLOps SP2023/Week_2_Exercises\n"
          ]
        }
      ]
    },
    {
      "cell_type": "code",
      "metadata": {
        "id": "rxCadWPyqauS",
        "colab": {
          "base_uri": "https://localhost:8080/",
          "height": 35
        },
        "outputId": "640f24bc-f99d-4fbb-ae0d-fe4657c2f106"
      },
      "source": [
        "# double check if the file is in the correct folder\n",
        "%pwd"
      ],
      "execution_count": null,
      "outputs": [
        {
          "output_type": "execute_result",
          "data": {
            "text/plain": [
              "'/content/drive/My Drive/Classroom/DATA 6545: Data Science and MLOps SP2023/Week_2_Exercises'"
            ],
            "application/vnd.google.colaboratory.intrinsic+json": {
              "type": "string"
            }
          },
          "metadata": {},
          "execution_count": 7
        }
      ]
    },
    {
      "cell_type": "code",
      "metadata": {
        "id": "h_OExrR5xMxj",
        "colab": {
          "base_uri": "https://localhost:8080/"
        },
        "outputId": "bec0a139-d4c7-480b-842c-ffed6e76cf0a"
      },
      "source": [
        "#my_data = open('./data/populations.txt', 'r')\n",
        "# downloaded populations text file from google colab, saved on hard drive\n",
        "# dragged populations txt into the right google drive folder called 'Week_2_Exercises' \n",
        "# within the 'DATA6545: Data Science and MLOps SP2023' folder\n",
        "within the DATA 6545 \n",
        "my_data = open('populations.txt','r')\n",
        "type(my_data)"
      ],
      "execution_count": null,
      "outputs": [
        {
          "output_type": "execute_result",
          "data": {
            "text/plain": [
              "_io.TextIOWrapper"
            ]
          },
          "metadata": {},
          "execution_count": 8
        }
      ]
    },
    {
      "cell_type": "code",
      "source": [
        "### alternatively\n",
        "# pop_df = pd.read_csv(\"https://raw.githubusercontent.com/DrJieTao/ba545-docs/master/data/populations.txt\", sep='\\t')\n",
        "### or\n",
        "# data_path = \"/content/drive/MyDrive/Classroom/DATA 6545: Data Science and MLOps SP2023/Week_2_Exercises/populations.txt\"\n",
        "# my_data = pd.read_csv(data_path, sep ='\\t')\n",
        "# my_data.head()"
      ],
      "metadata": {
        "id": "k74s0xBcfdV_",
        "colab": {
          "base_uri": "https://localhost:8080/",
          "height": 206
        },
        "outputId": "c8d9bee1-8bac-4b62-8db1-281bdc2886d1"
      },
      "execution_count": null,
      "outputs": [
        {
          "output_type": "execute_result",
          "data": {
            "text/plain": [
              "   year     hare     lynx  carrot\n",
              "0  1900  30000.0   4000.0   48300\n",
              "1  1901  47200.0   6100.0   48200\n",
              "2  1902  70200.0   9800.0   41500\n",
              "3  1903  77400.0  35200.0   38200\n",
              "4  1904  36300.0  59400.0   40600"
            ],
            "text/html": [
              "\n",
              "  <div id=\"df-5f3d112f-22ef-4a10-8308-998a27154c1e\">\n",
              "    <div class=\"colab-df-container\">\n",
              "      <div>\n",
              "<style scoped>\n",
              "    .dataframe tbody tr th:only-of-type {\n",
              "        vertical-align: middle;\n",
              "    }\n",
              "\n",
              "    .dataframe tbody tr th {\n",
              "        vertical-align: top;\n",
              "    }\n",
              "\n",
              "    .dataframe thead th {\n",
              "        text-align: right;\n",
              "    }\n",
              "</style>\n",
              "<table border=\"1\" class=\"dataframe\">\n",
              "  <thead>\n",
              "    <tr style=\"text-align: right;\">\n",
              "      <th></th>\n",
              "      <th>year</th>\n",
              "      <th>hare</th>\n",
              "      <th>lynx</th>\n",
              "      <th>carrot</th>\n",
              "    </tr>\n",
              "  </thead>\n",
              "  <tbody>\n",
              "    <tr>\n",
              "      <th>0</th>\n",
              "      <td>1900</td>\n",
              "      <td>30000.0</td>\n",
              "      <td>4000.0</td>\n",
              "      <td>48300</td>\n",
              "    </tr>\n",
              "    <tr>\n",
              "      <th>1</th>\n",
              "      <td>1901</td>\n",
              "      <td>47200.0</td>\n",
              "      <td>6100.0</td>\n",
              "      <td>48200</td>\n",
              "    </tr>\n",
              "    <tr>\n",
              "      <th>2</th>\n",
              "      <td>1902</td>\n",
              "      <td>70200.0</td>\n",
              "      <td>9800.0</td>\n",
              "      <td>41500</td>\n",
              "    </tr>\n",
              "    <tr>\n",
              "      <th>3</th>\n",
              "      <td>1903</td>\n",
              "      <td>77400.0</td>\n",
              "      <td>35200.0</td>\n",
              "      <td>38200</td>\n",
              "    </tr>\n",
              "    <tr>\n",
              "      <th>4</th>\n",
              "      <td>1904</td>\n",
              "      <td>36300.0</td>\n",
              "      <td>59400.0</td>\n",
              "      <td>40600</td>\n",
              "    </tr>\n",
              "  </tbody>\n",
              "</table>\n",
              "</div>\n",
              "      <button class=\"colab-df-convert\" onclick=\"convertToInteractive('df-5f3d112f-22ef-4a10-8308-998a27154c1e')\"\n",
              "              title=\"Convert this dataframe to an interactive table.\"\n",
              "              style=\"display:none;\">\n",
              "        \n",
              "  <svg xmlns=\"http://www.w3.org/2000/svg\" height=\"24px\"viewBox=\"0 0 24 24\"\n",
              "       width=\"24px\">\n",
              "    <path d=\"M0 0h24v24H0V0z\" fill=\"none\"/>\n",
              "    <path d=\"M18.56 5.44l.94 2.06.94-2.06 2.06-.94-2.06-.94-.94-2.06-.94 2.06-2.06.94zm-11 1L8.5 8.5l.94-2.06 2.06-.94-2.06-.94L8.5 2.5l-.94 2.06-2.06.94zm10 10l.94 2.06.94-2.06 2.06-.94-2.06-.94-.94-2.06-.94 2.06-2.06.94z\"/><path d=\"M17.41 7.96l-1.37-1.37c-.4-.4-.92-.59-1.43-.59-.52 0-1.04.2-1.43.59L10.3 9.45l-7.72 7.72c-.78.78-.78 2.05 0 2.83L4 21.41c.39.39.9.59 1.41.59.51 0 1.02-.2 1.41-.59l7.78-7.78 2.81-2.81c.8-.78.8-2.07 0-2.86zM5.41 20L4 18.59l7.72-7.72 1.47 1.35L5.41 20z\"/>\n",
              "  </svg>\n",
              "      </button>\n",
              "      \n",
              "  <style>\n",
              "    .colab-df-container {\n",
              "      display:flex;\n",
              "      flex-wrap:wrap;\n",
              "      gap: 12px;\n",
              "    }\n",
              "\n",
              "    .colab-df-convert {\n",
              "      background-color: #E8F0FE;\n",
              "      border: none;\n",
              "      border-radius: 50%;\n",
              "      cursor: pointer;\n",
              "      display: none;\n",
              "      fill: #1967D2;\n",
              "      height: 32px;\n",
              "      padding: 0 0 0 0;\n",
              "      width: 32px;\n",
              "    }\n",
              "\n",
              "    .colab-df-convert:hover {\n",
              "      background-color: #E2EBFA;\n",
              "      box-shadow: 0px 1px 2px rgba(60, 64, 67, 0.3), 0px 1px 3px 1px rgba(60, 64, 67, 0.15);\n",
              "      fill: #174EA6;\n",
              "    }\n",
              "\n",
              "    [theme=dark] .colab-df-convert {\n",
              "      background-color: #3B4455;\n",
              "      fill: #D2E3FC;\n",
              "    }\n",
              "\n",
              "    [theme=dark] .colab-df-convert:hover {\n",
              "      background-color: #434B5C;\n",
              "      box-shadow: 0px 1px 3px 1px rgba(0, 0, 0, 0.15);\n",
              "      filter: drop-shadow(0px 1px 2px rgba(0, 0, 0, 0.3));\n",
              "      fill: #FFFFFF;\n",
              "    }\n",
              "  </style>\n",
              "\n",
              "      <script>\n",
              "        const buttonEl =\n",
              "          document.querySelector('#df-5f3d112f-22ef-4a10-8308-998a27154c1e button.colab-df-convert');\n",
              "        buttonEl.style.display =\n",
              "          google.colab.kernel.accessAllowed ? 'block' : 'none';\n",
              "\n",
              "        async function convertToInteractive(key) {\n",
              "          const element = document.querySelector('#df-5f3d112f-22ef-4a10-8308-998a27154c1e');\n",
              "          const dataTable =\n",
              "            await google.colab.kernel.invokeFunction('convertToInteractive',\n",
              "                                                     [key], {});\n",
              "          if (!dataTable) return;\n",
              "\n",
              "          const docLinkHtml = 'Like what you see? Visit the ' +\n",
              "            '<a target=\"_blank\" href=https://colab.research.google.com/notebooks/data_table.ipynb>data table notebook</a>'\n",
              "            + ' to learn more about interactive tables.';\n",
              "          element.innerHTML = '';\n",
              "          dataTable['output_type'] = 'display_data';\n",
              "          await google.colab.output.renderOutput(dataTable, element);\n",
              "          const docLink = document.createElement('div');\n",
              "          docLink.innerHTML = docLinkHtml;\n",
              "          element.appendChild(docLink);\n",
              "        }\n",
              "      </script>\n",
              "    </div>\n",
              "  </div>\n",
              "  "
            ]
          },
          "metadata": {},
          "execution_count": 10
        }
      ]
    },
    {
      "cell_type": "code",
      "metadata": {
        "id": "ICNwmphJxMxw",
        "outputId": "3df7d464-eddc-4277-d82f-1ae5069439f4",
        "colab": {
          "base_uri": "https://localhost:8080/"
        }
      },
      "source": [
        "labels_line = my_data.readline().strip()\n",
        "poptable = []\n",
        "total = 0\n",
        "for line in my_data.readlines():\n",
        "    line = line.strip()\n",
        "    row = line.split(\"\\t\")\n",
        "    record = [int(row[0]),float(row[1]),float(row[2]), float(row[3])]\n",
        "    print (record)\n",
        "    poptable.append(record)\n",
        "    total += 1\n",
        "print (total)"
      ],
      "execution_count": null,
      "outputs": [
        {
          "output_type": "stream",
          "name": "stdout",
          "text": [
            "[1900, 30000.0, 4000.0, 48300.0]\n",
            "[1901, 47200.0, 6100.0, 48200.0]\n",
            "[1902, 70200.0, 9800.0, 41500.0]\n",
            "[1903, 77400.0, 35200.0, 38200.0]\n",
            "[1904, 36300.0, 59400.0, 40600.0]\n",
            "[1905, 20600.0, 41700.0, 39800.0]\n",
            "[1906, 18100.0, 19000.0, 38600.0]\n",
            "[1907, 21400.0, 13000.0, 42300.0]\n",
            "[1908, 22000.0, 8300.0, 44500.0]\n",
            "[1909, 25400.0, 9100.0, 42100.0]\n",
            "[1910, 27100.0, 7400.0, 46000.0]\n",
            "[1911, 40300.0, 8000.0, 46800.0]\n",
            "[1912, 57000.0, 12300.0, 43800.0]\n",
            "[1913, 76600.0, 19500.0, 40900.0]\n",
            "[1914, 52300.0, 45700.0, 39400.0]\n",
            "[1915, 19500.0, 51100.0, 39000.0]\n",
            "[1916, 11200.0, 29700.0, 36700.0]\n",
            "[1917, 7600.0, 15800.0, 41800.0]\n",
            "[1918, 14600.0, 9700.0, 43300.0]\n",
            "[1919, 16200.0, 10100.0, 41300.0]\n",
            "[1920, 24700.0, 8600.0, 47300.0]\n",
            "21\n"
          ]
        }
      ]
    },
    {
      "cell_type": "code",
      "metadata": {
        "id": "AsUYIp1vxMx8",
        "outputId": "7624303b-a53f-44c0-c211-21a1c538ddad",
        "colab": {
          "base_uri": "https://localhost:8080/"
        }
      },
      "source": [
        "print (poptable)"
      ],
      "execution_count": null,
      "outputs": [
        {
          "output_type": "stream",
          "name": "stdout",
          "text": [
            "[[1900, 30000.0, 4000.0, 48300.0], [1901, 47200.0, 6100.0, 48200.0], [1902, 70200.0, 9800.0, 41500.0], [1903, 77400.0, 35200.0, 38200.0], [1904, 36300.0, 59400.0, 40600.0], [1905, 20600.0, 41700.0, 39800.0], [1906, 18100.0, 19000.0, 38600.0], [1907, 21400.0, 13000.0, 42300.0], [1908, 22000.0, 8300.0, 44500.0], [1909, 25400.0, 9100.0, 42100.0], [1910, 27100.0, 7400.0, 46000.0], [1911, 40300.0, 8000.0, 46800.0], [1912, 57000.0, 12300.0, 43800.0], [1913, 76600.0, 19500.0, 40900.0], [1914, 52300.0, 45700.0, 39400.0], [1915, 19500.0, 51100.0, 39000.0], [1916, 11200.0, 29700.0, 36700.0], [1917, 7600.0, 15800.0, 41800.0], [1918, 14600.0, 9700.0, 43300.0], [1919, 16200.0, 10100.0, 41300.0], [1920, 24700.0, 8600.0, 47300.0]]\n"
          ]
        }
      ]
    },
    {
      "cell_type": "code",
      "metadata": {
        "id": "pq9S43nPxMyH",
        "outputId": "eecd9d9a-3a27-4ae3-9b61-643b9fb3e138",
        "colab": {
          "base_uri": "https://localhost:8080/"
        }
      },
      "source": [
        "# printing the top5 elements (rows) of poptable from index 0 upto (but not including) index 5\n",
        "print (poptable[0:5])"
      ],
      "execution_count": null,
      "outputs": [
        {
          "output_type": "stream",
          "name": "stdout",
          "text": [
            "[[1900, 30000.0, 4000.0, 48300.0], [1901, 47200.0, 6100.0, 48200.0], [1902, 70200.0, 9800.0, 41500.0], [1903, 77400.0, 35200.0, 38200.0], [1904, 36300.0, 59400.0, 40600.0]]\n"
          ]
        }
      ]
    },
    {
      "cell_type": "markdown",
      "metadata": {
        "id": "eZcMjvEuxMyP"
      },
      "source": [
        "# Define the Data\n",
        "\n",
        "Following is an example of creating Python dictionaries for each of the species in the data. The year (in the first) column is used as the key for the population value of each of the species for that year."
      ]
    },
    {
      "cell_type": "code",
      "metadata": {
        "id": "FyGAZ7XCxMyQ"
      },
      "source": [
        "hares = {}\n",
        "lynxes = {}\n",
        "carrots = {}\n",
        "for row in poptable:\n",
        "    hares[row[0]] = row[1]\n",
        "    lynxes[row[0]] = row[2]\n",
        "    carrots[row[0]] = row[3]\n"
      ],
      "execution_count": null,
      "outputs": []
    },
    {
      "cell_type": "code",
      "metadata": {
        "id": "ugiceLKGxMyV",
        "outputId": "29ebf463-1e09-4888-808e-a35b55abdfb1",
        "colab": {
          "base_uri": "https://localhost:8080/"
        }
      },
      "source": [
        "print(hares)"
      ],
      "execution_count": null,
      "outputs": [
        {
          "output_type": "stream",
          "name": "stdout",
          "text": [
            "{1900: 30000.0, 1901: 47200.0, 1902: 70200.0, 1903: 77400.0, 1904: 36300.0, 1905: 20600.0, 1906: 18100.0, 1907: 21400.0, 1908: 22000.0, 1909: 25400.0, 1910: 27100.0, 1911: 40300.0, 1912: 57000.0, 1913: 76600.0, 1914: 52300.0, 1915: 19500.0, 1916: 11200.0, 1917: 7600.0, 1918: 14600.0, 1919: 16200.0, 1920: 24700.0}\n"
          ]
        }
      ]
    },
    {
      "cell_type": "markdown",
      "metadata": {
        "id": "zb4OMxC1xMya"
      },
      "source": [
        "This is useful if we need to access information regarding one of the species for a specified year."
      ]
    },
    {
      "cell_type": "code",
      "metadata": {
        "id": "dGOglcsaxMyb",
        "outputId": "b7dd6b3a-18f4-492d-81d3-1031dc47722c",
        "colab": {
          "base_uri": "https://localhost:8080/"
        }
      },
      "source": [
        "print(hares[1903]) # accessing key which is year 1903, has a population of 77,400"
      ],
      "execution_count": null,
      "outputs": [
        {
          "output_type": "stream",
          "name": "stdout",
          "text": [
            "77400.0\n"
          ]
        }
      ]
    },
    {
      "cell_type": "code",
      "metadata": {
        "id": "K8HgwW9UxMyf",
        "outputId": "378e83ed-f890-41e8-ae75-2fdebc2fdfb3",
        "colab": {
          "base_uri": "https://localhost:8080/"
        }
      },
      "source": [
        "# finding the years during which the population of hares was greater than 50K\n",
        "# Here we'll use standard Python list comprehensions\n",
        "\n",
        "hares_above_50k = [yr for yr in hares.keys() if hares[yr]>50000.0]\n",
        "print (hares_above_50k)"
      ],
      "execution_count": null,
      "outputs": [
        {
          "output_type": "stream",
          "name": "stdout",
          "text": [
            "[1902, 1903, 1912, 1913, 1914]\n"
          ]
        }
      ]
    },
    {
      "cell_type": "code",
      "metadata": {
        "id": "4o6FZ-mRxMym",
        "outputId": "a33f4404-742a-44e0-e2b1-c59f47f8ee0c",
        "colab": {
          "base_uri": "https://localhost:8080/"
        }
      },
      "source": [
        "# Finding the year(s) with maximal value of Hares\n",
        "\n",
        "maxhares = [yr for yr in hares.keys() if hares[yr] == max(hares.values())]\n",
        "for i in range(0,len(maxhares)):\n",
        "    print (maxhares[i], hares[maxhares[i]])\n"
      ],
      "execution_count": null,
      "outputs": [
        {
          "output_type": "stream",
          "name": "stdout",
          "text": [
            "1903 77400.0\n"
          ]
        }
      ]
    },
    {
      "cell_type": "markdown",
      "metadata": {
        "id": "rbYJPH81xMys"
      },
      "source": [
        "So far, we have not used Numpy, only standard Python. But, many operations on data involving tables or matrices are much simpler and more efficient using Numpy. Let's now try using NumPy arrays:"
      ]
    },
    {
      "cell_type": "code",
      "metadata": {
        "id": "Zv651HntxMyt"
      },
      "source": [
        "import numpy as np"
      ],
      "execution_count": null,
      "outputs": []
    },
    {
      "cell_type": "markdown",
      "metadata": {
        "id": "aepIEFuPxMyw"
      },
      "source": [
        "If we want to use the Python list already created, we must first convert it to a 2D NumPy array:"
      ]
    },
    {
      "cell_type": "code",
      "metadata": {
        "id": "MBU8iibKxMyx",
        "outputId": "b13d8a7d-0090-4f45-ad04-42c6eeafc405",
        "colab": {
          "base_uri": "https://localhost:8080/"
        }
      },
      "source": [
        "pop = np.array(poptable)\n",
        "print (pop)"
      ],
      "execution_count": null,
      "outputs": [
        {
          "output_type": "stream",
          "name": "stdout",
          "text": [
            "[[ 1900. 30000.  4000. 48300.]\n",
            " [ 1901. 47200.  6100. 48200.]\n",
            " [ 1902. 70200.  9800. 41500.]\n",
            " [ 1903. 77400. 35200. 38200.]\n",
            " [ 1904. 36300. 59400. 40600.]\n",
            " [ 1905. 20600. 41700. 39800.]\n",
            " [ 1906. 18100. 19000. 38600.]\n",
            " [ 1907. 21400. 13000. 42300.]\n",
            " [ 1908. 22000.  8300. 44500.]\n",
            " [ 1909. 25400.  9100. 42100.]\n",
            " [ 1910. 27100.  7400. 46000.]\n",
            " [ 1911. 40300.  8000. 46800.]\n",
            " [ 1912. 57000. 12300. 43800.]\n",
            " [ 1913. 76600. 19500. 40900.]\n",
            " [ 1914. 52300. 45700. 39400.]\n",
            " [ 1915. 19500. 51100. 39000.]\n",
            " [ 1916. 11200. 29700. 36700.]\n",
            " [ 1917.  7600. 15800. 41800.]\n",
            " [ 1918. 14600.  9700. 43300.]\n",
            " [ 1919. 16200. 10100. 41300.]\n",
            " [ 1920. 24700.  8600. 47300.]]\n"
          ]
        }
      ]
    },
    {
      "cell_type": "markdown",
      "metadata": {
        "id": "HPTvNAdyxMy0"
      },
      "source": [
        "However, we could have, from the start, loaded the data into a Numpy array. One way to do this is via \"loadtxt\" which reads numerical values from tab-delimited or CSV files (converted into floats)."
      ]
    },
    {
      "cell_type": "code",
      "metadata": {
        "id": "00981BFlxMy1",
        "outputId": "67a17698-49b4-425d-fe1d-5822eed48b78",
        "colab": {
          "base_uri": "https://localhost:8080/"
        }
      },
      "source": [
        "#poptable = np.loadtxt('./data/populations.txt', skiprows=1)\n",
        "poptable = np.loadtxt('./populations.txt', skiprows=1)\n",
        "print (poptable)"
      ],
      "execution_count": null,
      "outputs": [
        {
          "output_type": "stream",
          "name": "stdout",
          "text": [
            "[[ 1900. 30000.  4000. 48300.]\n",
            " [ 1901. 47200.  6100. 48200.]\n",
            " [ 1902. 70200.  9800. 41500.]\n",
            " [ 1903. 77400. 35200. 38200.]\n",
            " [ 1904. 36300. 59400. 40600.]\n",
            " [ 1905. 20600. 41700. 39800.]\n",
            " [ 1906. 18100. 19000. 38600.]\n",
            " [ 1907. 21400. 13000. 42300.]\n",
            " [ 1908. 22000.  8300. 44500.]\n",
            " [ 1909. 25400.  9100. 42100.]\n",
            " [ 1910. 27100.  7400. 46000.]\n",
            " [ 1911. 40300.  8000. 46800.]\n",
            " [ 1912. 57000. 12300. 43800.]\n",
            " [ 1913. 76600. 19500. 40900.]\n",
            " [ 1914. 52300. 45700. 39400.]\n",
            " [ 1915. 19500. 51100. 39000.]\n",
            " [ 1916. 11200. 29700. 36700.]\n",
            " [ 1917.  7600. 15800. 41800.]\n",
            " [ 1918. 14600.  9700. 43300.]\n",
            " [ 1919. 16200. 10100. 41300.]\n",
            " [ 1920. 24700.  8600. 47300.]]\n"
          ]
        }
      ]
    },
    {
      "cell_type": "code",
      "metadata": {
        "id": "euQmcvPKxMy3",
        "outputId": "a6ed0e60-4b99-46b9-e3c4-84b870a4a0e9",
        "colab": {
          "base_uri": "https://localhost:8080/"
        }
      },
      "source": [
        "poptable.shape # 21 rows, and 4 columns"
      ],
      "execution_count": null,
      "outputs": [
        {
          "output_type": "execute_result",
          "data": {
            "text/plain": [
              "(21, 4)"
            ]
          },
          "metadata": {},
          "execution_count": 21
        }
      ]
    },
    {
      "cell_type": "markdown",
      "metadata": {
        "id": "MsktOZb7xMy8"
      },
      "source": [
        "Note that poptable is a 21x4 2-d Numpy array (a matrix)\n",
        "In fact, we can assign each column directly into separate 1-d arrays, by splitting the transpose of poptable:"
      ]
    },
    {
      "cell_type": "code",
      "metadata": {
        "id": "4WMIlRC2xMy9",
        "outputId": "56a198a5-a27c-4654-b4f1-fa8c9b051457",
        "colab": {
          "base_uri": "https://localhost:8080/"
        }
      },
      "source": [
        "year, hares, lynxes, carrots = poptable.T\n",
        "print (year)\n",
        "print (hares)\n",
        "print (\"Mean Hare Population: \", hares.mean())"
      ],
      "execution_count": null,
      "outputs": [
        {
          "output_type": "stream",
          "name": "stdout",
          "text": [
            "[1900. 1901. 1902. 1903. 1904. 1905. 1906. 1907. 1908. 1909. 1910. 1911.\n",
            " 1912. 1913. 1914. 1915. 1916. 1917. 1918. 1919. 1920.]\n",
            "[30000. 47200. 70200. 77400. 36300. 20600. 18100. 21400. 22000. 25400.\n",
            " 27100. 40300. 57000. 76600. 52300. 19500. 11200.  7600. 14600. 16200.\n",
            " 24700.]\n",
            "Mean Hare Population:  34080.95238095238\n"
          ]
        }
      ]
    },
    {
      "cell_type": "markdown",
      "metadata": {
        "id": "8BB6iHjyxMzB"
      },
      "source": [
        "Numpy allows us to easily perform operations on rows, columns, or to the whole array:"
      ]
    },
    {
      "cell_type": "markdown",
      "metadata": {
        "id": "sJM81vUHxMzC"
      },
      "source": [
        "# Data Exploration with Numpy"
      ]
    },
    {
      "cell_type": "code",
      "metadata": {
        "id": "VACe5fXbxMzD",
        "outputId": "82a8a53a-6570-49bb-c066-849c9028f299",
        "colab": {
          "base_uri": "https://localhost:8080/"
        }
      },
      "source": [
        "# finding all years when the population of one of the species is above 50k\n",
        "\n",
        "above_50k = np.any(poptable>50000, axis=1) # axis=1 means the operation will be performed across columns\n",
        "print (above_50k)\n",
        "print (year[above_50k])\n"
      ],
      "execution_count": null,
      "outputs": [
        {
          "output_type": "stream",
          "name": "stdout",
          "text": [
            "[False False  True  True  True False False False False False False False\n",
            "  True  True  True  True False False False False False]\n",
            "[1902. 1903. 1904. 1912. 1913. 1914. 1915.]\n"
          ]
        }
      ]
    },
    {
      "cell_type": "markdown",
      "metadata": {
        "id": "fc0HxP8SxMzG"
      },
      "source": [
        "Let's print some summary statistics on each of the species:"
      ]
    },
    {
      "cell_type": "code",
      "metadata": {
        "id": "w8x8pOsqxMzH",
        "outputId": "36d56064-b787-47ca-c2b1-87face1cb676",
        "colab": {
          "base_uri": "https://localhost:8080/"
        }
      },
      "source": [
        "pop_no_year = poptable[:,1:] # Removing the first column (\"Year\")\n",
        "print (\"        Hares           Lynxes          Carrots\")\n",
        "print (\"Mean:\", pop_no_year.mean(axis=0))\n",
        "print (\"Std: \", pop_no_year.std(axis=0))"
      ],
      "execution_count": null,
      "outputs": [
        {
          "output_type": "stream",
          "name": "stdout",
          "text": [
            "        Hares           Lynxes          Carrots\n",
            "Mean: [34080.95238095 20166.66666667 42400.        ]\n",
            "Std:  [20897.90645809 16254.59153691  3322.50622558]\n"
          ]
        }
      ]
    },
    {
      "cell_type": "code",
      "metadata": {
        "id": "vsDUoc0CxMzJ",
        "outputId": "85c5bb38-f9cf-4cdb-90f0-0ed1f28cbadd",
        "colab": {
          "base_uri": "https://localhost:8080/"
        }
      },
      "source": [
        "# Finding indecies of years when one of the populations was at max\n",
        "j_max_years = np.argmax(pop_no_year, axis=0) # ranging over rows for each column\n",
        "print (\"Indecies for the maximums:\", j_max_years)\n",
        "print (\"          Hares  Lynxes Carrots\")\n",
        "print (\"Max. year:\", year[j_max_years])"
      ],
      "execution_count": null,
      "outputs": [
        {
          "output_type": "stream",
          "name": "stdout",
          "text": [
            "Indecies for the maximums: [3 4 0]\n",
            "          Hares  Lynxes Carrots\n",
            "Max. year: [1903. 1904. 1900.]\n"
          ]
        }
      ]
    },
    {
      "cell_type": "code",
      "metadata": {
        "id": "3O6ignc5xMzM",
        "outputId": "efb70618-6a4f-4a16-e3df-140c7058931b",
        "colab": {
          "base_uri": "https://localhost:8080/"
        }
      },
      "source": [
        "# Ranging over cols for each row, find the specie with the highest pop for each year\n",
        "max_species = np.argmax(pop_no_year, axis=1)\n",
        "species = np.array(['Hare', 'Lynx', 'Carrot'])\n",
        "print (max_species)\n",
        "print (\"Max specie from 1900 to 1920:\")\n",
        "print (species[max_species])"
      ],
      "execution_count": null,
      "outputs": [
        {
          "output_type": "stream",
          "name": "stdout",
          "text": [
            "[2 2 0 0 1 1 2 2 2 2 2 2 0 0 0 1 2 2 2 2 2]\n",
            "Max specie from 1900 to 1920:\n",
            "['Carrot' 'Carrot' 'Hare' 'Hare' 'Lynx' 'Lynx' 'Carrot' 'Carrot' 'Carrot'\n",
            " 'Carrot' 'Carrot' 'Carrot' 'Hare' 'Hare' 'Hare' 'Lynx' 'Carrot' 'Carrot'\n",
            " 'Carrot' 'Carrot' 'Carrot']\n"
          ]
        }
      ]
    },
    {
      "cell_type": "markdown",
      "metadata": {
        "id": "EKaY3XwXxMzR"
      },
      "source": [
        "We can look at correlations among the three population variables."
      ]
    },
    {
      "cell_type": "code",
      "metadata": {
        "id": "Qzx-_qU0xMzR",
        "outputId": "a1d2e740-b9f7-449d-a231-4d539d9427c3",
        "colab": {
          "base_uri": "https://localhost:8080/"
        }
      },
      "source": [
        "corr_matrix = np.corrcoef(pop_no_year.T)\n",
        "print (corr_matrix)"
      ],
      "execution_count": null,
      "outputs": [
        {
          "output_type": "stream",
          "name": "stdout",
          "text": [
            "[[ 1.          0.07189206 -0.01660378]\n",
            " [ 0.07189206  1.         -0.68057717]\n",
            " [-0.01660378 -0.68057717  1.        ]]\n"
          ]
        }
      ]
    },
    {
      "cell_type": "markdown",
      "metadata": {
        "id": "1cy73Zu2xMzV"
      },
      "source": [
        "Now let's look at multi-dimensional sorting. In order to sort by a particular field in the data, we need to convert into a strucutred array with keys."
      ]
    },
    {
      "cell_type": "code",
      "metadata": {
        "id": "NEz93em4xMzV"
      },
      "source": [
        "pop_with_keys = poptable.view(dtype=[('year', 'float'), ('hares', 'float'), ('lynxes', 'float'), ('carrots', 'float')])"
      ],
      "execution_count": null,
      "outputs": []
    },
    {
      "cell_type": "code",
      "metadata": {
        "id": "QpTf5Kn8xMzY",
        "outputId": "34a44ba1-90dd-4be1-8d38-9062ef823b28",
        "colab": {
          "base_uri": "https://localhost:8080/"
        }
      },
      "source": [
        "pop_with_keys"
      ],
      "execution_count": null,
      "outputs": [
        {
          "output_type": "execute_result",
          "data": {
            "text/plain": [
              "array([[(1900., 30000.,  4000., 48300.)],\n",
              "       [(1901., 47200.,  6100., 48200.)],\n",
              "       [(1902., 70200.,  9800., 41500.)],\n",
              "       [(1903., 77400., 35200., 38200.)],\n",
              "       [(1904., 36300., 59400., 40600.)],\n",
              "       [(1905., 20600., 41700., 39800.)],\n",
              "       [(1906., 18100., 19000., 38600.)],\n",
              "       [(1907., 21400., 13000., 42300.)],\n",
              "       [(1908., 22000.,  8300., 44500.)],\n",
              "       [(1909., 25400.,  9100., 42100.)],\n",
              "       [(1910., 27100.,  7400., 46000.)],\n",
              "       [(1911., 40300.,  8000., 46800.)],\n",
              "       [(1912., 57000., 12300., 43800.)],\n",
              "       [(1913., 76600., 19500., 40900.)],\n",
              "       [(1914., 52300., 45700., 39400.)],\n",
              "       [(1915., 19500., 51100., 39000.)],\n",
              "       [(1916., 11200., 29700., 36700.)],\n",
              "       [(1917.,  7600., 15800., 41800.)],\n",
              "       [(1918., 14600.,  9700., 43300.)],\n",
              "       [(1919., 16200., 10100., 41300.)],\n",
              "       [(1920., 24700.,  8600., 47300.)]],\n",
              "      dtype=[('year', '<f8'), ('hares', '<f8'), ('lynxes', '<f8'), ('carrots', '<f8')])"
            ]
          },
          "metadata": {},
          "execution_count": 29
        }
      ]
    },
    {
      "cell_type": "markdown",
      "metadata": {
        "id": "b9gcHXNnxMza"
      },
      "source": [
        "Now, array columns can be accessed directly with the appropriate key label:"
      ]
    },
    {
      "cell_type": "code",
      "metadata": {
        "id": "mPE46vRRxMzb",
        "outputId": "6c60e32c-a74e-4170-ff59-f3de11bb6af7",
        "colab": {
          "base_uri": "https://localhost:8080/"
        }
      },
      "source": [
        "print (pop_with_keys['hares'])"
      ],
      "execution_count": null,
      "outputs": [
        {
          "output_type": "stream",
          "name": "stdout",
          "text": [
            "[[30000.]\n",
            " [47200.]\n",
            " [70200.]\n",
            " [77400.]\n",
            " [36300.]\n",
            " [20600.]\n",
            " [18100.]\n",
            " [21400.]\n",
            " [22000.]\n",
            " [25400.]\n",
            " [27100.]\n",
            " [40300.]\n",
            " [57000.]\n",
            " [76600.]\n",
            " [52300.]\n",
            " [19500.]\n",
            " [11200.]\n",
            " [ 7600.]\n",
            " [14600.]\n",
            " [16200.]\n",
            " [24700.]]\n"
          ]
        }
      ]
    },
    {
      "cell_type": "markdown",
      "metadata": {
        "id": "c31ZxSgnxMzd"
      },
      "source": [
        "Now we can do sorting using the desired label. For example, we can sort the table using the 'hares' field:"
      ]
    },
    {
      "cell_type": "code",
      "metadata": {
        "id": "Ew5GXqgLxMze",
        "outputId": "950370bf-97a0-4e91-92b4-9943a2d9fbde",
        "colab": {
          "base_uri": "https://localhost:8080/"
        }
      },
      "source": [
        "sorted_by_hares = np.sort(pop_with_keys, order='hares', axis=0)\n",
        "print (sorted_by_hares)"
      ],
      "execution_count": null,
      "outputs": [
        {
          "output_type": "stream",
          "name": "stdout",
          "text": [
            "[[(1917.,  7600., 15800., 41800.)]\n",
            " [(1916., 11200., 29700., 36700.)]\n",
            " [(1918., 14600.,  9700., 43300.)]\n",
            " [(1919., 16200., 10100., 41300.)]\n",
            " [(1906., 18100., 19000., 38600.)]\n",
            " [(1915., 19500., 51100., 39000.)]\n",
            " [(1905., 20600., 41700., 39800.)]\n",
            " [(1907., 21400., 13000., 42300.)]\n",
            " [(1908., 22000.,  8300., 44500.)]\n",
            " [(1920., 24700.,  8600., 47300.)]\n",
            " [(1909., 25400.,  9100., 42100.)]\n",
            " [(1910., 27100.,  7400., 46000.)]\n",
            " [(1900., 30000.,  4000., 48300.)]\n",
            " [(1904., 36300., 59400., 40600.)]\n",
            " [(1911., 40300.,  8000., 46800.)]\n",
            " [(1901., 47200.,  6100., 48200.)]\n",
            " [(1914., 52300., 45700., 39400.)]\n",
            " [(1912., 57000., 12300., 43800.)]\n",
            " [(1902., 70200.,  9800., 41500.)]\n",
            " [(1913., 76600., 19500., 40900.)]\n",
            " [(1903., 77400., 35200., 38200.)]]\n"
          ]
        }
      ]
    },
    {
      "cell_type": "markdown",
      "metadata": {
        "id": "i22zubEaxMzh"
      },
      "source": [
        "# More Data Exploration with Matplotlib"
      ]
    },
    {
      "cell_type": "code",
      "metadata": {
        "id": "8EO5aztUxMzh"
      },
      "source": [
        "import matplotlib.pyplot as plt\n",
        "plt.style.use('ggplot')\n",
        "%matplotlib inline"
      ],
      "execution_count": null,
      "outputs": []
    },
    {
      "cell_type": "code",
      "metadata": {
        "id": "PDU9lgX2xMzk",
        "outputId": "cede201a-d639-4544-de12-e266a1f31d9c",
        "colab": {
          "base_uri": "https://localhost:8080/",
          "height": 284
        }
      },
      "source": [
        "plt.plot(year, hares)"
      ],
      "execution_count": null,
      "outputs": [
        {
          "output_type": "execute_result",
          "data": {
            "text/plain": [
              "[<matplotlib.lines.Line2D at 0x7f7bd42dbaf0>]"
            ]
          },
          "metadata": {},
          "execution_count": 33
        },
        {
          "output_type": "display_data",
          "data": {
            "text/plain": [
              "<Figure size 432x288 with 1 Axes>"
            ],
            "image/png": "[encoded data removed]"
          },
          "metadata": {
            "needs_background": "light"
          }
        }
      ]
    },
    {
      "cell_type": "code",
      "metadata": {
        "id": "_jYVx4j4xMzn",
        "outputId": "cbd9fa07-288e-4742-92d6-bd8c6725697f",
        "colab": {
          "base_uri": "https://localhost:8080/",
          "height": 283
        }
      },
      "source": [
        "plt.plot(year, hares, label='Hares')\n",
        "plt.plot(year, lynxes, label='Lynxes')\n",
        "plt.plot(year, carrots, label='Carrots')\n",
        "plt.legend( ('Hares','Lynxes','Carrots') )\n",
        "plt.ylabel('Population')\n",
        "plt.xlabel('Year')\n",
        "plt.show()"
      ],
      "execution_count": null,
      "outputs": [
        {
          "output_type": "display_data",
          "data": {
            "text/plain": [
              "<Figure size 432x288 with 1 Axes>"
            ],
            "image/png": "[encoded data removed]"
          },
          "metadata": {
            "needs_background": "light"
          }
        }
      ]
    },
    {
      "cell_type": "code",
      "metadata": {
        "id": "Mglz_xX8xMzr",
        "outputId": "b5c50349-ed84-4fc2-ff01-fb99c60bf2ae",
        "colab": {
          "base_uri": "https://localhost:8080/",
          "height": 316
        }
      },
      "source": [
        "plt.hist(carrots, bins=8, alpha=0.5)\n",
        "plt.xlabel('Carrots')\n",
        "plt.ylabel('Count')\n",
        "plt.title('Histogram of Carrot Populaions')\n",
        "plt.axis([35000, 50000, 0, 6])\n",
        "#plt.grid(True)"
      ],
      "execution_count": null,
      "outputs": [
        {
          "output_type": "execute_result",
          "data": {
            "text/plain": [
              "(35000.0, 50000.0, 0.0, 6.0)"
            ]
          },
          "metadata": {},
          "execution_count": 35
        },
        {
          "output_type": "display_data",
          "data": {
            "text/plain": [
              "<Figure size 432x288 with 1 Axes>"
            ],
            "image/png": "[encoded data removed]"
          },
          "metadata": {
            "needs_background": "light"
          }
        }
      ]
    },
    {
      "cell_type": "code",
      "metadata": {
        "id": "6HsoRdiGxMzu",
        "outputId": "45175e83-d934-45a2-ad19-d118b511feb1",
        "colab": {
          "base_uri": "https://localhost:8080/",
          "height": 316
        }
      },
      "source": [
        "plt.scatter(hares, carrots, color=\"blue\", marker=\"*\")\n",
        "plt.xlabel('Hares')\n",
        "plt.ylabel('Carrots')\n",
        "plt.title('Hares v. Carrots')\n",
        "#plt.grid(True)"
      ],
      "execution_count": null,
      "outputs": [
        {
          "output_type": "execute_result",
          "data": {
            "text/plain": [
              "Text(0.5, 1.0, 'Hares v. Carrots')"
            ]
          },
          "metadata": {},
          "execution_count": 36
        },
        {
          "output_type": "display_data",
          "data": {
            "text/plain": [
              "<Figure size 432x288 with 1 Axes>"
            ],
            "image/png": "[encoded data removed]"
          },
          "metadata": {
            "needs_background": "light"
          }
        }
      ]
    },
    {
      "cell_type": "code",
      "metadata": {
        "id": "ZlqDXEoFxMzx",
        "outputId": "e6d2b70c-5787-4712-830e-da7689e9c2e2",
        "colab": {
          "base_uri": "https://localhost:8080/",
          "height": 316
        }
      },
      "source": [
        "fig = plt.figure(figsize=(12, 4))\n",
        "# Create an Axes object.\n",
        "\n",
        "ax1 = fig.add_subplot(1,2,1) # one row, two column, first plot\n",
        "# Plot the data.\n",
        "ax1.scatter(hares, carrots, color=\"red\", marker=\"*\")\n",
        "ax1.set_title(\"Hares vs. Carrots\")\n",
        "# Add some axis labels.\n",
        "ax1.set_xlabel(\"Hare Population\")\n",
        "ax1.set_ylabel(\"Carrot Population\")\n",
        "\n",
        "\n",
        "ax2 = fig.add_subplot(1,2,2) # one row, two column, 2nd plot\n",
        "# Plot the data.\n",
        "ax2.scatter(hares, lynxes, color=\"blue\", marker=\"^\")\n",
        "\n",
        "ax2.set_title(\"Hares vs. Lynxes\")\n",
        "# Add some axis labels.\n",
        "ax2.set_xlabel(\"Hare Population\")\n",
        "ax2.set_ylabel(\"Lynx Population\")\n",
        "\n",
        "# Produce an image.\n",
        "# fig.savefig(\"scatterplot.png\")\n"
      ],
      "execution_count": null,
      "outputs": [
        {
          "output_type": "execute_result",
          "data": {
            "text/plain": [
              "Text(0, 0.5, 'Lynx Population')"
            ]
          },
          "metadata": {},
          "execution_count": 37
        },
        {
          "output_type": "display_data",
          "data": {
            "text/plain": [
              "<Figure size 864x288 with 2 Axes>"
            ],
            "image/png": "[encoded data removed]"
          },
          "metadata": {
            "needs_background": "light"
          }
        }
      ]
    },
    {
      "cell_type": "code",
      "metadata": {
        "id": "AIJABjG8xMz0"
      },
      "source": [],
      "execution_count": null,
      "outputs": []
    }
  ]
}