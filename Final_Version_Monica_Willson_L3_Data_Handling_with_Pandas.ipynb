{
  "nbformat": 4,
  "nbformat_minor": 0,
  "metadata": {
    "kernelspec": {
      "display_name": "Python 3",
      "language": "python",
      "name": "python3"
    },
    "language_info": {
      "codemirror_mode": {
        "name": "ipython",
        "version": 3
      },
      "file_extension": ".py",
      "mimetype": "text/x-python",
      "name": "python",
      "nbconvert_exporter": "python",
      "pygments_lexer": "ipython3",
      "version": "3.5.5"
    },
    "colab": {
      "provenance": []
    }
  },
  "cells": [
    {
      "cell_type": "markdown",
      "metadata": {
        "id": "S0JYOIa9y1XV"
      },
      "source": [
        "# Read-in the Data"
      ]
    },
    {
      "cell_type": "code",
      "metadata": {
        "id": "f2r_dhtHy1Xj"
      },
      "source": [
        "import numpy as np\n",
        "import pandas as pd"
      ],
      "execution_count": null,
      "outputs": []
    },
    {
      "cell_type": "code",
      "metadata": {
        "id": "B0x6v4ixy1YO",
        "outputId": "a14fe685-7494-47bc-a4eb-d984e99c55d5",
        "colab": {
          "base_uri": "https://localhost:8080/",
          "height": 206
        }
      },
      "source": [
        "#pop_df = pd.read_csv(\"./data/populations.txt\", sep='\\t')\n",
        "pop_df = pd.read_csv(\"https://raw.githubusercontent.com/DrJieTao/ba545-docs/master/data/populations.txt\", sep='\\t')\n",
        "pop_df.head(5)"
      ],
      "execution_count": null,
      "outputs": [
        {
          "output_type": "execute_result",
          "data": {
            "text/plain": [
              "   year     hare     lynx  carrot\n",
              "0  1900  30000.0   4000.0   48300\n",
              "1  1901  47200.0   6100.0   48200\n",
              "2  1902  70200.0   9800.0   41500\n",
              "3  1903  77400.0  35200.0   38200\n",
              "4  1904  36300.0  59400.0   40600"
            ],
            "text/html": [
              "\n",
              "  <div id=\"df-3dd657af-1223-46bc-b3c9-f45c71a49205\">\n",
              "    <div class=\"colab-df-container\">\n",
              "      <div>\n",
              "<style scoped>\n",
              "    .dataframe tbody tr th:only-of-type {\n",
              "        vertical-align: middle;\n",
              "    }\n",
              "\n",
              "    .dataframe tbody tr th {\n",
              "        vertical-align: top;\n",
              "    }\n",
              "\n",
              "    .dataframe thead th {\n",
              "        text-align: right;\n",
              "    }\n",
              "</style>\n",
              "<table border=\"1\" class=\"dataframe\">\n",
              "  <thead>\n",
              "    <tr style=\"text-align: right;\">\n",
              "      <th></th>\n",
              "      <th>year</th>\n",
              "      <th>hare</th>\n",
              "      <th>lynx</th>\n",
              "      <th>carrot</th>\n",
              "    </tr>\n",
              "  </thead>\n",
              "  <tbody>\n",
              "    <tr>\n",
              "      <th>0</th>\n",
              "      <td>1900</td>\n",
              "      <td>30000.0</td>\n",
              "      <td>4000.0</td>\n",
              "      <td>48300</td>\n",
              "    </tr>\n",
              "    <tr>\n",
              "      <th>1</th>\n",
              "      <td>1901</td>\n",
              "      <td>47200.0</td>\n",
              "      <td>6100.0</td>\n",
              "      <td>48200</td>\n",
              "    </tr>\n",
              "    <tr>\n",
              "      <th>2</th>\n",
              "      <td>1902</td>\n",
              "      <td>70200.0</td>\n",
              "      <td>9800.0</td>\n",
              "      <td>41500</td>\n",
              "    </tr>\n",
              "    <tr>\n",
              "      <th>3</th>\n",
              "      <td>1903</td>\n",
              "      <td>77400.0</td>\n",
              "      <td>35200.0</td>\n",
              "      <td>38200</td>\n",
              "    </tr>\n",
              "    <tr>\n",
              "      <th>4</th>\n",
              "      <td>1904</td>\n",
              "      <td>36300.0</td>\n",
              "      <td>59400.0</td>\n",
              "      <td>40600</td>\n",
              "    </tr>\n",
              "  </tbody>\n",
              "</table>\n",
              "</div>\n",
              "      <button class=\"colab-df-convert\" onclick=\"convertToInteractive('df-3dd657af-1223-46bc-b3c9-f45c71a49205')\"\n",
              "              title=\"Convert this dataframe to an interactive table.\"\n",
              "              style=\"display:none;\">\n",
              "        \n",
              "  <svg xmlns=\"http://www.w3.org/2000/svg\" height=\"24px\"viewBox=\"0 0 24 24\"\n",
              "       width=\"24px\">\n",
              "    <path d=\"M0 0h24v24H0V0z\" fill=\"none\"/>\n",
              "    <path d=\"M18.56 5.44l.94 2.06.94-2.06 2.06-.94-2.06-.94-.94-2.06-.94 2.06-2.06.94zm-11 1L8.5 8.5l.94-2.06 2.06-.94-2.06-.94L8.5 2.5l-.94 2.06-2.06.94zm10 10l.94 2.06.94-2.06 2.06-.94-2.06-.94-.94-2.06-.94 2.06-2.06.94z\"/><path d=\"M17.41 7.96l-1.37-1.37c-.4-.4-.92-.59-1.43-.59-.52 0-1.04.2-1.43.59L10.3 9.45l-7.72 7.72c-.78.78-.78 2.05 0 2.83L4 21.41c.39.39.9.59 1.41.59.51 0 1.02-.2 1.41-.59l7.78-7.78 2.81-2.81c.8-.78.8-2.07 0-2.86zM5.41 20L4 18.59l7.72-7.72 1.47 1.35L5.41 20z\"/>\n",
              "  </svg>\n",
              "      </button>\n",
              "      \n",
              "  <style>\n",
              "    .colab-df-container {\n",
              "      display:flex;\n",
              "      flex-wrap:wrap;\n",
              "      gap: 12px;\n",
              "    }\n",
              "\n",
              "    .colab-df-convert {\n",
              "      background-color: #E8F0FE;\n",
              "      border: none;\n",
              "      border-radius: 50%;\n",
              "      cursor: pointer;\n",
              "      display: none;\n",
              "      fill: #1967D2;\n",
              "      height: 32px;\n",
              "      padding: 0 0 0 0;\n",
              "      width: 32px;\n",
              "    }\n",
              "\n",
              "    .colab-df-convert:hover {\n",
              "      background-color: #E2EBFA;\n",
              "      box-shadow: 0px 1px 2px rgba(60, 64, 67, 0.3), 0px 1px 3px 1px rgba(60, 64, 67, 0.15);\n",
              "      fill: #174EA6;\n",
              "    }\n",
              "\n",
              "    [theme=dark] .colab-df-convert {\n",
              "      background-color: #3B4455;\n",
              "      fill: #D2E3FC;\n",
              "    }\n",
              "\n",
              "    [theme=dark] .colab-df-convert:hover {\n",
              "      background-color: #434B5C;\n",
              "      box-shadow: 0px 1px 3px 1px rgba(0, 0, 0, 0.15);\n",
              "      filter: drop-shadow(0px 1px 2px rgba(0, 0, 0, 0.3));\n",
              "      fill: #FFFFFF;\n",
              "    }\n",
              "  </style>\n",
              "\n",
              "      <script>\n",
              "        const buttonEl =\n",
              "          document.querySelector('#df-3dd657af-1223-46bc-b3c9-f45c71a49205 button.colab-df-convert');\n",
              "        buttonEl.style.display =\n",
              "          google.colab.kernel.accessAllowed ? 'block' : 'none';\n",
              "\n",
              "        async function convertToInteractive(key) {\n",
              "          const element = document.querySelector('#df-3dd657af-1223-46bc-b3c9-f45c71a49205');\n",
              "          const dataTable =\n",
              "            await google.colab.kernel.invokeFunction('convertToInteractive',\n",
              "                                                     [key], {});\n",
              "          if (!dataTable) return;\n",
              "\n",
              "          const docLinkHtml = 'Like what you see? Visit the ' +\n",
              "            '<a target=\"_blank\" href=https://colab.research.google.com/notebooks/data_table.ipynb>data table notebook</a>'\n",
              "            + ' to learn more about interactive tables.';\n",
              "          element.innerHTML = '';\n",
              "          dataTable['output_type'] = 'display_data';\n",
              "          await google.colab.output.renderOutput(dataTable, element);\n",
              "          const docLink = document.createElement('div');\n",
              "          docLink.innerHTML = docLinkHtml;\n",
              "          element.appendChild(docLink);\n",
              "        }\n",
              "      </script>\n",
              "    </div>\n",
              "  </div>\n",
              "  "
            ]
          },
          "metadata": {},
          "execution_count": 3
        }
      ]
    },
    {
      "cell_type": "code",
      "metadata": {
        "id": "smTQp5yEy1Y9",
        "outputId": "f3ea27c5-9808-493d-d006-ef66b4be3468",
        "colab": {
          "base_uri": "https://localhost:8080/"
        }
      },
      "source": [
        "pop_df.shape #21 observations and 4 features"
      ],
      "execution_count": null,
      "outputs": [
        {
          "output_type": "execute_result",
          "data": {
            "text/plain": [
              "(21, 4)"
            ]
          },
          "metadata": {},
          "execution_count": 4
        }
      ]
    },
    {
      "cell_type": "markdown",
      "metadata": {
        "id": "b9xavYrGy1ZW"
      },
      "source": [
        "## YOUR TURN HERE\n",
        "\n",
        "Let us investigate the dataset by checking the number of variables/fetures and observations.\n",
        "\n",
        "**Number of variables/features = number of columns in DF**\n",
        "\n",
        "**Enter value of X below**\n",
        "\n",
        "We have 4 variables in the dataset.\n",
        "\n",
        "**Number of observations = number of rows in DF**\n",
        "\n",
        "**Enter value of Y below**\n",
        "\n",
        "We have 21 observations in the dataset."
      ]
    },
    {
      "cell_type": "markdown",
      "metadata": {
        "id": "nDSrF-ESy1Zz"
      },
      "source": [
        "Let us check the names of the variables embedded in the dataset. Note that sometimes we do not have column names (variable names) in the dataset."
      ]
    },
    {
      "cell_type": "code",
      "metadata": {
        "id": "OgdKvf2iy1bm",
        "outputId": "c6520914-576a-4f50-9a74-67de03b9d27e",
        "colab": {
          "base_uri": "https://localhost:8080/"
        }
      },
      "source": [
        "pop_df.columns"
      ],
      "execution_count": null,
      "outputs": [
        {
          "output_type": "execute_result",
          "data": {
            "text/plain": [
              "Index(['year', 'hare', 'lynx', 'carrot'], dtype='object')"
            ]
          },
          "metadata": {},
          "execution_count": 5
        }
      ]
    },
    {
      "cell_type": "markdown",
      "metadata": {
        "id": "XtA4Pdrmy1bv"
      },
      "source": [
        "We only need the values to feed into the models - we can access the values this way."
      ]
    },
    {
      "cell_type": "code",
      "metadata": {
        "id": "8izyvXJTy1bw",
        "outputId": "bc05d50a-d875-4867-c2bb-6fb70c378e4d",
        "colab": {
          "base_uri": "https://localhost:8080/"
        }
      },
      "source": [
        "pop_df.values # attribute no parentheses"
      ],
      "execution_count": null,
      "outputs": [
        {
          "output_type": "execute_result",
          "data": {
            "text/plain": [
              "array([[ 1900., 30000.,  4000., 48300.],\n",
              "       [ 1901., 47200.,  6100., 48200.],\n",
              "       [ 1902., 70200.,  9800., 41500.],\n",
              "       [ 1903., 77400., 35200., 38200.],\n",
              "       [ 1904., 36300., 59400., 40600.],\n",
              "       [ 1905., 20600., 41700., 39800.],\n",
              "       [ 1906., 18100., 19000., 38600.],\n",
              "       [ 1907., 21400., 13000., 42300.],\n",
              "       [ 1908., 22000.,  8300., 44500.],\n",
              "       [ 1909., 25400.,  9100., 42100.],\n",
              "       [ 1910., 27100.,  7400., 46000.],\n",
              "       [ 1911., 40300.,  8000., 46800.],\n",
              "       [ 1912., 57000., 12300., 43800.],\n",
              "       [ 1913., 76600., 19500., 40900.],\n",
              "       [ 1914., 52300., 45700., 39400.],\n",
              "       [ 1915., 19500., 51100., 39000.],\n",
              "       [ 1916., 11200., 29700., 36700.],\n",
              "       [ 1917.,  7600., 15800., 41800.],\n",
              "       [ 1918., 14600.,  9700., 43300.],\n",
              "       [ 1919., 16200., 10100., 41300.],\n",
              "       [ 1920., 24700.,  8600., 47300.]])"
            ]
          },
          "metadata": {
            "tags": []
          },
          "execution_count": 5
        }
      ]
    },
    {
      "cell_type": "markdown",
      "metadata": {
        "id": "8mOpidl1y1b3"
      },
      "source": [
        "Data type is also an important characteristic of the data, we can access the data types this way."
      ]
    },
    {
      "cell_type": "code",
      "metadata": {
        "id": "zm9WrNyVy1b4",
        "outputId": "c548f308-2499-4e90-ccfd-2b9b58d694d1",
        "colab": {
          "base_uri": "https://localhost:8080/"
        }
      },
      "source": [
        "pop_df.dtypes"
      ],
      "execution_count": null,
      "outputs": [
        {
          "output_type": "execute_result",
          "data": {
            "text/plain": [
              "year        int64\n",
              "hare      float64\n",
              "lynx      float64\n",
              "carrot      int64\n",
              "dtype: object"
            ]
          },
          "metadata": {},
          "execution_count": 6
        }
      ]
    },
    {
      "cell_type": "markdown",
      "metadata": {
        "id": "oE_VSy4qy1b9"
      },
      "source": [
        "We can access columns (Pandas series) using their labels:"
      ]
    },
    {
      "cell_type": "code",
      "metadata": {
        "id": "Vz1QmP9Qy1b-",
        "outputId": "3b17c860-0e1b-466c-c145-0e6052e012cc",
        "colab": {
          "base_uri": "https://localhost:8080/"
        }
      },
      "source": [
        "hare_df = pop_df[\"hare\"]\n",
        "hare_df"
      ],
      "execution_count": null,
      "outputs": [
        {
          "output_type": "execute_result",
          "data": {
            "text/plain": [
              "0     30000.0\n",
              "1     47200.0\n",
              "2     70200.0\n",
              "3     77400.0\n",
              "4     36300.0\n",
              "5     20600.0\n",
              "6     18100.0\n",
              "7     21400.0\n",
              "8     22000.0\n",
              "9     25400.0\n",
              "10    27100.0\n",
              "11    40300.0\n",
              "12    57000.0\n",
              "13    76600.0\n",
              "14    52300.0\n",
              "15    19500.0\n",
              "16    11200.0\n",
              "17     7600.0\n",
              "18    14600.0\n",
              "19    16200.0\n",
              "20    24700.0\n",
              "Name: hare, dtype: float64"
            ]
          },
          "metadata": {},
          "execution_count": 7
        }
      ]
    },
    {
      "cell_type": "markdown",
      "metadata": {
        "id": "5CdTCPfay1cE"
      },
      "source": [
        "Or alternatively using the label as a property of the dataframe:"
      ]
    },
    {
      "cell_type": "code",
      "metadata": {
        "id": "ggseb53jy1cE",
        "outputId": "e12cc1e9-7ce7-434e-bbcb-dc0b98f2fde7",
        "colab": {
          "base_uri": "https://localhost:8080/"
        }
      },
      "source": [
        "pop_df.hare"
      ],
      "execution_count": null,
      "outputs": [
        {
          "output_type": "execute_result",
          "data": {
            "text/plain": [
              "0     30000.0\n",
              "1     47200.0\n",
              "2     70200.0\n",
              "3     77400.0\n",
              "4     36300.0\n",
              "5     20600.0\n",
              "6     18100.0\n",
              "7     21400.0\n",
              "8     22000.0\n",
              "9     25400.0\n",
              "10    27100.0\n",
              "11    40300.0\n",
              "12    57000.0\n",
              "13    76600.0\n",
              "14    52300.0\n",
              "15    19500.0\n",
              "16    11200.0\n",
              "17     7600.0\n",
              "18    14600.0\n",
              "19    16200.0\n",
              "20    24700.0\n",
              "Name: hare, dtype: float64"
            ]
          },
          "metadata": {},
          "execution_count": 8
        }
      ]
    },
    {
      "cell_type": "markdown",
      "metadata": {
        "id": "TOARYPsxy1cK"
      },
      "source": [
        "# Data Exploration\n",
        "\n",
        "Data exploration is easier with Pandas."
      ]
    },
    {
      "cell_type": "markdown",
      "metadata": {
        "id": "_rQD2T1Ny1cL"
      },
      "source": [
        "The usual numeric operations are available for dataframes or series:"
      ]
    },
    {
      "cell_type": "code",
      "metadata": {
        "id": "ocBT7IyZy1cM",
        "outputId": "4f402a36-6a27-4a62-ddb7-86cee2ba85d4",
        "colab": {
          "base_uri": "https://localhost:8080/"
        }
      },
      "source": [
        "print (\"Mean Hare Population: \", hare_df.mean())"
      ],
      "execution_count": null,
      "outputs": [
        {
          "output_type": "stream",
          "name": "stdout",
          "text": [
            "Mean Hare Population:  34080.95238095238\n"
          ]
        }
      ]
    },
    {
      "cell_type": "code",
      "metadata": {
        "id": "jxJriw82y1cR",
        "outputId": "6feb98f1-8ce9-4235-9bfe-1f50fa773cc8",
        "colab": {
          "base_uri": "https://localhost:8080/"
        }
      },
      "source": [
        "print (\"Mean Populations: \\n\", pop_df[[\"hare\",\"lynx\",\"carrot\"]].mean())\n",
        "print (\"\\n\")\n",
        "print (\"Standard Deviations: \\n\", pop_df[[\"hare\",\"lynx\",\"carrot\"]].std())"
      ],
      "execution_count": null,
      "outputs": [
        {
          "output_type": "stream",
          "name": "stdout",
          "text": [
            "Mean Populations: \n",
            " hare      34080.952381\n",
            "lynx      20166.666667\n",
            "carrot    42400.000000\n",
            "dtype: float64\n",
            "\n",
            "\n",
            "Standard Deviations: \n",
            " hare      21413.981859\n",
            "lynx      16655.999920\n",
            "carrot     3404.555771\n",
            "dtype: float64\n"
          ]
        }
      ]
    },
    {
      "cell_type": "markdown",
      "metadata": {
        "id": "F79O0_BDy1cU"
      },
      "source": [
        "The describe() method provides a detailed description of variables:"
      ]
    },
    {
      "cell_type": "code",
      "metadata": {
        "id": "1pyvF4icy1cV",
        "outputId": "fda90514-f7b1-47a8-df87-ffbe83a8cb6d",
        "colab": {
          "base_uri": "https://localhost:8080/",
          "height": 300
        }
      },
      "source": [
        "pop_df[[\"hare\",\"lynx\",\"carrot\"]].describe()"
      ],
      "execution_count": null,
      "outputs": [
        {
          "output_type": "execute_result",
          "data": {
            "text/plain": [
              "               hare          lynx        carrot\n",
              "count     21.000000     21.000000     21.000000\n",
              "mean   34080.952381  20166.666667  42400.000000\n",
              "std    21413.981859  16655.999920   3404.555771\n",
              "min     7600.000000   4000.000000  36700.000000\n",
              "25%    19500.000000   8600.000000  39800.000000\n",
              "50%    25400.000000  12300.000000  41800.000000\n",
              "75%    47200.000000  29700.000000  44500.000000\n",
              "max    77400.000000  59400.000000  48300.000000"
            ],
            "text/html": [
              "\n",
              "  <div id=\"df-74097203-aba2-4290-8cef-de636402faa3\">\n",
              "    <div class=\"colab-df-container\">\n",
              "      <div>\n",
              "<style scoped>\n",
              "    .dataframe tbody tr th:only-of-type {\n",
              "        vertical-align: middle;\n",
              "    }\n",
              "\n",
              "    .dataframe tbody tr th {\n",
              "        vertical-align: top;\n",
              "    }\n",
              "\n",
              "    .dataframe thead th {\n",
              "        text-align: right;\n",
              "    }\n",
              "</style>\n",
              "<table border=\"1\" class=\"dataframe\">\n",
              "  <thead>\n",
              "    <tr style=\"text-align: right;\">\n",
              "      <th></th>\n",
              "      <th>hare</th>\n",
              "      <th>lynx</th>\n",
              "      <th>carrot</th>\n",
              "    </tr>\n",
              "  </thead>\n",
              "  <tbody>\n",
              "    <tr>\n",
              "      <th>count</th>\n",
              "      <td>21.000000</td>\n",
              "      <td>21.000000</td>\n",
              "      <td>21.000000</td>\n",
              "    </tr>\n",
              "    <tr>\n",
              "      <th>mean</th>\n",
              "      <td>34080.952381</td>\n",
              "      <td>20166.666667</td>\n",
              "      <td>42400.000000</td>\n",
              "    </tr>\n",
              "    <tr>\n",
              "      <th>std</th>\n",
              "      <td>21413.981859</td>\n",
              "      <td>16655.999920</td>\n",
              "      <td>3404.555771</td>\n",
              "    </tr>\n",
              "    <tr>\n",
              "      <th>min</th>\n",
              "      <td>7600.000000</td>\n",
              "      <td>4000.000000</td>\n",
              "      <td>36700.000000</td>\n",
              "    </tr>\n",
              "    <tr>\n",
              "      <th>25%</th>\n",
              "      <td>19500.000000</td>\n",
              "      <td>8600.000000</td>\n",
              "      <td>39800.000000</td>\n",
              "    </tr>\n",
              "    <tr>\n",
              "      <th>50%</th>\n",
              "      <td>25400.000000</td>\n",
              "      <td>12300.000000</td>\n",
              "      <td>41800.000000</td>\n",
              "    </tr>\n",
              "    <tr>\n",
              "      <th>75%</th>\n",
              "      <td>47200.000000</td>\n",
              "      <td>29700.000000</td>\n",
              "      <td>44500.000000</td>\n",
              "    </tr>\n",
              "    <tr>\n",
              "      <th>max</th>\n",
              "      <td>77400.000000</td>\n",
              "      <td>59400.000000</td>\n",
              "      <td>48300.000000</td>\n",
              "    </tr>\n",
              "  </tbody>\n",
              "</table>\n",
              "</div>\n",
              "      <button class=\"colab-df-convert\" onclick=\"convertToInteractive('df-74097203-aba2-4290-8cef-de636402faa3')\"\n",
              "              title=\"Convert this dataframe to an interactive table.\"\n",
              "              style=\"display:none;\">\n",
              "        \n",
              "  <svg xmlns=\"http://www.w3.org/2000/svg\" height=\"24px\"viewBox=\"0 0 24 24\"\n",
              "       width=\"24px\">\n",
              "    <path d=\"M0 0h24v24H0V0z\" fill=\"none\"/>\n",
              "    <path d=\"M18.56 5.44l.94 2.06.94-2.06 2.06-.94-2.06-.94-.94-2.06-.94 2.06-2.06.94zm-11 1L8.5 8.5l.94-2.06 2.06-.94-2.06-.94L8.5 2.5l-.94 2.06-2.06.94zm10 10l.94 2.06.94-2.06 2.06-.94-2.06-.94-.94-2.06-.94 2.06-2.06.94z\"/><path d=\"M17.41 7.96l-1.37-1.37c-.4-.4-.92-.59-1.43-.59-.52 0-1.04.2-1.43.59L10.3 9.45l-7.72 7.72c-.78.78-.78 2.05 0 2.83L4 21.41c.39.39.9.59 1.41.59.51 0 1.02-.2 1.41-.59l7.78-7.78 2.81-2.81c.8-.78.8-2.07 0-2.86zM5.41 20L4 18.59l7.72-7.72 1.47 1.35L5.41 20z\"/>\n",
              "  </svg>\n",
              "      </button>\n",
              "      \n",
              "  <style>\n",
              "    .colab-df-container {\n",
              "      display:flex;\n",
              "      flex-wrap:wrap;\n",
              "      gap: 12px;\n",
              "    }\n",
              "\n",
              "    .colab-df-convert {\n",
              "      background-color: #E8F0FE;\n",
              "      border: none;\n",
              "      border-radius: 50%;\n",
              "      cursor: pointer;\n",
              "      display: none;\n",
              "      fill: #1967D2;\n",
              "      height: 32px;\n",
              "      padding: 0 0 0 0;\n",
              "      width: 32px;\n",
              "    }\n",
              "\n",
              "    .colab-df-convert:hover {\n",
              "      background-color: #E2EBFA;\n",
              "      box-shadow: 0px 1px 2px rgba(60, 64, 67, 0.3), 0px 1px 3px 1px rgba(60, 64, 67, 0.15);\n",
              "      fill: #174EA6;\n",
              "    }\n",
              "\n",
              "    [theme=dark] .colab-df-convert {\n",
              "      background-color: #3B4455;\n",
              "      fill: #D2E3FC;\n",
              "    }\n",
              "\n",
              "    [theme=dark] .colab-df-convert:hover {\n",
              "      background-color: #434B5C;\n",
              "      box-shadow: 0px 1px 3px 1px rgba(0, 0, 0, 0.15);\n",
              "      filter: drop-shadow(0px 1px 2px rgba(0, 0, 0, 0.3));\n",
              "      fill: #FFFFFF;\n",
              "    }\n",
              "  </style>\n",
              "\n",
              "      <script>\n",
              "        const buttonEl =\n",
              "          document.querySelector('#df-74097203-aba2-4290-8cef-de636402faa3 button.colab-df-convert');\n",
              "        buttonEl.style.display =\n",
              "          google.colab.kernel.accessAllowed ? 'block' : 'none';\n",
              "\n",
              "        async function convertToInteractive(key) {\n",
              "          const element = document.querySelector('#df-74097203-aba2-4290-8cef-de636402faa3');\n",
              "          const dataTable =\n",
              "            await google.colab.kernel.invokeFunction('convertToInteractive',\n",
              "                                                     [key], {});\n",
              "          if (!dataTable) return;\n",
              "\n",
              "          const docLinkHtml = 'Like what you see? Visit the ' +\n",
              "            '<a target=\"_blank\" href=https://colab.research.google.com/notebooks/data_table.ipynb>data table notebook</a>'\n",
              "            + ' to learn more about interactive tables.';\n",
              "          element.innerHTML = '';\n",
              "          dataTable['output_type'] = 'display_data';\n",
              "          await google.colab.output.renderOutput(dataTable, element);\n",
              "          const docLink = document.createElement('div');\n",
              "          docLink.innerHTML = docLinkHtml;\n",
              "          element.appendChild(docLink);\n",
              "        }\n",
              "      </script>\n",
              "    </div>\n",
              "  </div>\n",
              "  "
            ]
          },
          "metadata": {},
          "execution_count": 11
        }
      ]
    },
    {
      "cell_type": "code",
      "metadata": {
        "id": "BuKhbw8Ey1cZ",
        "outputId": "c98ed56a-9338-4d4b-fa95-d553483f648c",
        "colab": {
          "base_uri": "https://localhost:8080/",
          "height": 300
        }
      },
      "source": [
        "pop_df.describe()"
      ],
      "execution_count": null,
      "outputs": [
        {
          "output_type": "execute_result",
          "data": {
            "text/plain": [
              "              year          hare          lynx        carrot\n",
              "count    21.000000     21.000000     21.000000     21.000000\n",
              "mean   1910.000000  34080.952381  20166.666667  42400.000000\n",
              "std       6.204837  21413.981859  16655.999920   3404.555771\n",
              "min    1900.000000   7600.000000   4000.000000  36700.000000\n",
              "25%    1905.000000  19500.000000   8600.000000  39800.000000\n",
              "50%    1910.000000  25400.000000  12300.000000  41800.000000\n",
              "75%    1915.000000  47200.000000  29700.000000  44500.000000\n",
              "max    1920.000000  77400.000000  59400.000000  48300.000000"
            ],
            "text/html": [
              "\n",
              "  <div id=\"df-ea34c5c3-067a-4a16-9f34-8752788885fb\">\n",
              "    <div class=\"colab-df-container\">\n",
              "      <div>\n",
              "<style scoped>\n",
              "    .dataframe tbody tr th:only-of-type {\n",
              "        vertical-align: middle;\n",
              "    }\n",
              "\n",
              "    .dataframe tbody tr th {\n",
              "        vertical-align: top;\n",
              "    }\n",
              "\n",
              "    .dataframe thead th {\n",
              "        text-align: right;\n",
              "    }\n",
              "</style>\n",
              "<table border=\"1\" class=\"dataframe\">\n",
              "  <thead>\n",
              "    <tr style=\"text-align: right;\">\n",
              "      <th></th>\n",
              "      <th>year</th>\n",
              "      <th>hare</th>\n",
              "      <th>lynx</th>\n",
              "      <th>carrot</th>\n",
              "    </tr>\n",
              "  </thead>\n",
              "  <tbody>\n",
              "    <tr>\n",
              "      <th>count</th>\n",
              "      <td>21.000000</td>\n",
              "      <td>21.000000</td>\n",
              "      <td>21.000000</td>\n",
              "      <td>21.000000</td>\n",
              "    </tr>\n",
              "    <tr>\n",
              "      <th>mean</th>\n",
              "      <td>1910.000000</td>\n",
              "      <td>34080.952381</td>\n",
              "      <td>20166.666667</td>\n",
              "      <td>42400.000000</td>\n",
              "    </tr>\n",
              "    <tr>\n",
              "      <th>std</th>\n",
              "      <td>6.204837</td>\n",
              "      <td>21413.981859</td>\n",
              "      <td>16655.999920</td>\n",
              "      <td>3404.555771</td>\n",
              "    </tr>\n",
              "    <tr>\n",
              "      <th>min</th>\n",
              "      <td>1900.000000</td>\n",
              "      <td>7600.000000</td>\n",
              "      <td>4000.000000</td>\n",
              "      <td>36700.000000</td>\n",
              "    </tr>\n",
              "    <tr>\n",
              "      <th>25%</th>\n",
              "      <td>1905.000000</td>\n",
              "      <td>19500.000000</td>\n",
              "      <td>8600.000000</td>\n",
              "      <td>39800.000000</td>\n",
              "    </tr>\n",
              "    <tr>\n",
              "      <th>50%</th>\n",
              "      <td>1910.000000</td>\n",
              "      <td>25400.000000</td>\n",
              "      <td>12300.000000</td>\n",
              "      <td>41800.000000</td>\n",
              "    </tr>\n",
              "    <tr>\n",
              "      <th>75%</th>\n",
              "      <td>1915.000000</td>\n",
              "      <td>47200.000000</td>\n",
              "      <td>29700.000000</td>\n",
              "      <td>44500.000000</td>\n",
              "    </tr>\n",
              "    <tr>\n",
              "      <th>max</th>\n",
              "      <td>1920.000000</td>\n",
              "      <td>77400.000000</td>\n",
              "      <td>59400.000000</td>\n",
              "      <td>48300.000000</td>\n",
              "    </tr>\n",
              "  </tbody>\n",
              "</table>\n",
              "</div>\n",
              "      <button class=\"colab-df-convert\" onclick=\"convertToInteractive('df-ea34c5c3-067a-4a16-9f34-8752788885fb')\"\n",
              "              title=\"Convert this dataframe to an interactive table.\"\n",
              "              style=\"display:none;\">\n",
              "        \n",
              "  <svg xmlns=\"http://www.w3.org/2000/svg\" height=\"24px\"viewBox=\"0 0 24 24\"\n",
              "       width=\"24px\">\n",
              "    <path d=\"M0 0h24v24H0V0z\" fill=\"none\"/>\n",
              "    <path d=\"M18.56 5.44l.94 2.06.94-2.06 2.06-.94-2.06-.94-.94-2.06-.94 2.06-2.06.94zm-11 1L8.5 8.5l.94-2.06 2.06-.94-2.06-.94L8.5 2.5l-.94 2.06-2.06.94zm10 10l.94 2.06.94-2.06 2.06-.94-2.06-.94-.94-2.06-.94 2.06-2.06.94z\"/><path d=\"M17.41 7.96l-1.37-1.37c-.4-.4-.92-.59-1.43-.59-.52 0-1.04.2-1.43.59L10.3 9.45l-7.72 7.72c-.78.78-.78 2.05 0 2.83L4 21.41c.39.39.9.59 1.41.59.51 0 1.02-.2 1.41-.59l7.78-7.78 2.81-2.81c.8-.78.8-2.07 0-2.86zM5.41 20L4 18.59l7.72-7.72 1.47 1.35L5.41 20z\"/>\n",
              "  </svg>\n",
              "      </button>\n",
              "      \n",
              "  <style>\n",
              "    .colab-df-container {\n",
              "      display:flex;\n",
              "      flex-wrap:wrap;\n",
              "      gap: 12px;\n",
              "    }\n",
              "\n",
              "    .colab-df-convert {\n",
              "      background-color: #E8F0FE;\n",
              "      border: none;\n",
              "      border-radius: 50%;\n",
              "      cursor: pointer;\n",
              "      display: none;\n",
              "      fill: #1967D2;\n",
              "      height: 32px;\n",
              "      padding: 0 0 0 0;\n",
              "      width: 32px;\n",
              "    }\n",
              "\n",
              "    .colab-df-convert:hover {\n",
              "      background-color: #E2EBFA;\n",
              "      box-shadow: 0px 1px 2px rgba(60, 64, 67, 0.3), 0px 1px 3px 1px rgba(60, 64, 67, 0.15);\n",
              "      fill: #174EA6;\n",
              "    }\n",
              "\n",
              "    [theme=dark] .colab-df-convert {\n",
              "      background-color: #3B4455;\n",
              "      fill: #D2E3FC;\n",
              "    }\n",
              "\n",
              "    [theme=dark] .colab-df-convert:hover {\n",
              "      background-color: #434B5C;\n",
              "      box-shadow: 0px 1px 3px 1px rgba(0, 0, 0, 0.15);\n",
              "      filter: drop-shadow(0px 1px 2px rgba(0, 0, 0, 0.3));\n",
              "      fill: #FFFFFF;\n",
              "    }\n",
              "  </style>\n",
              "\n",
              "      <script>\n",
              "        const buttonEl =\n",
              "          document.querySelector('#df-ea34c5c3-067a-4a16-9f34-8752788885fb button.colab-df-convert');\n",
              "        buttonEl.style.display =\n",
              "          google.colab.kernel.accessAllowed ? 'block' : 'none';\n",
              "\n",
              "        async function convertToInteractive(key) {\n",
              "          const element = document.querySelector('#df-ea34c5c3-067a-4a16-9f34-8752788885fb');\n",
              "          const dataTable =\n",
              "            await google.colab.kernel.invokeFunction('convertToInteractive',\n",
              "                                                     [key], {});\n",
              "          if (!dataTable) return;\n",
              "\n",
              "          const docLinkHtml = 'Like what you see? Visit the ' +\n",
              "            '<a target=\"_blank\" href=https://colab.research.google.com/notebooks/data_table.ipynb>data table notebook</a>'\n",
              "            + ' to learn more about interactive tables.';\n",
              "          element.innerHTML = '';\n",
              "          dataTable['output_type'] = 'display_data';\n",
              "          await google.colab.output.renderOutput(dataTable, element);\n",
              "          const docLink = document.createElement('div');\n",
              "          docLink.innerHTML = docLinkHtml;\n",
              "          element.appendChild(docLink);\n",
              "        }\n",
              "      </script>\n",
              "    </div>\n",
              "  </div>\n",
              "  "
            ]
          },
          "metadata": {},
          "execution_count": 12
        }
      ]
    },
    {
      "cell_type": "markdown",
      "metadata": {
        "id": "JAZUeCIHy1cd"
      },
      "source": [
        "A better way to do correlation analysis:"
      ]
    },
    {
      "cell_type": "code",
      "metadata": {
        "id": "DAp6uw6Qy1cd",
        "outputId": "0793b0c1-8356-4941-8042-b50e6e6e9f28",
        "colab": {
          "base_uri": "https://localhost:8080/",
          "height": 143
        }
      },
      "source": [
        "pop_df[[\"hare\",\"lynx\",\"carrot\"]].corr()"
      ],
      "execution_count": null,
      "outputs": [
        {
          "output_type": "execute_result",
          "data": {
            "text/plain": [
              "            hare      lynx    carrot\n",
              "hare    1.000000  0.071892 -0.016604\n",
              "lynx    0.071892  1.000000 -0.680577\n",
              "carrot -0.016604 -0.680577  1.000000"
            ],
            "text/html": [
              "\n",
              "  <div id=\"df-137b6a7e-1fcb-49af-b4ad-ebb947cd9fc0\">\n",
              "    <div class=\"colab-df-container\">\n",
              "      <div>\n",
              "<style scoped>\n",
              "    .dataframe tbody tr th:only-of-type {\n",
              "        vertical-align: middle;\n",
              "    }\n",
              "\n",
              "    .dataframe tbody tr th {\n",
              "        vertical-align: top;\n",
              "    }\n",
              "\n",
              "    .dataframe thead th {\n",
              "        text-align: right;\n",
              "    }\n",
              "</style>\n",
              "<table border=\"1\" class=\"dataframe\">\n",
              "  <thead>\n",
              "    <tr style=\"text-align: right;\">\n",
              "      <th></th>\n",
              "      <th>hare</th>\n",
              "      <th>lynx</th>\n",
              "      <th>carrot</th>\n",
              "    </tr>\n",
              "  </thead>\n",
              "  <tbody>\n",
              "    <tr>\n",
              "      <th>hare</th>\n",
              "      <td>1.000000</td>\n",
              "      <td>0.071892</td>\n",
              "      <td>-0.016604</td>\n",
              "    </tr>\n",
              "    <tr>\n",
              "      <th>lynx</th>\n",
              "      <td>0.071892</td>\n",
              "      <td>1.000000</td>\n",
              "      <td>-0.680577</td>\n",
              "    </tr>\n",
              "    <tr>\n",
              "      <th>carrot</th>\n",
              "      <td>-0.016604</td>\n",
              "      <td>-0.680577</td>\n",
              "      <td>1.000000</td>\n",
              "    </tr>\n",
              "  </tbody>\n",
              "</table>\n",
              "</div>\n",
              "      <button class=\"colab-df-convert\" onclick=\"convertToInteractive('df-137b6a7e-1fcb-49af-b4ad-ebb947cd9fc0')\"\n",
              "              title=\"Convert this dataframe to an interactive table.\"\n",
              "              style=\"display:none;\">\n",
              "        \n",
              "  <svg xmlns=\"http://www.w3.org/2000/svg\" height=\"24px\"viewBox=\"0 0 24 24\"\n",
              "       width=\"24px\">\n",
              "    <path d=\"M0 0h24v24H0V0z\" fill=\"none\"/>\n",
              "    <path d=\"M18.56 5.44l.94 2.06.94-2.06 2.06-.94-2.06-.94-.94-2.06-.94 2.06-2.06.94zm-11 1L8.5 8.5l.94-2.06 2.06-.94-2.06-.94L8.5 2.5l-.94 2.06-2.06.94zm10 10l.94 2.06.94-2.06 2.06-.94-2.06-.94-.94-2.06-.94 2.06-2.06.94z\"/><path d=\"M17.41 7.96l-1.37-1.37c-.4-.4-.92-.59-1.43-.59-.52 0-1.04.2-1.43.59L10.3 9.45l-7.72 7.72c-.78.78-.78 2.05 0 2.83L4 21.41c.39.39.9.59 1.41.59.51 0 1.02-.2 1.41-.59l7.78-7.78 2.81-2.81c.8-.78.8-2.07 0-2.86zM5.41 20L4 18.59l7.72-7.72 1.47 1.35L5.41 20z\"/>\n",
              "  </svg>\n",
              "      </button>\n",
              "      \n",
              "  <style>\n",
              "    .colab-df-container {\n",
              "      display:flex;\n",
              "      flex-wrap:wrap;\n",
              "      gap: 12px;\n",
              "    }\n",
              "\n",
              "    .colab-df-convert {\n",
              "      background-color: #E8F0FE;\n",
              "      border: none;\n",
              "      border-radius: 50%;\n",
              "      cursor: pointer;\n",
              "      display: none;\n",
              "      fill: #1967D2;\n",
              "      height: 32px;\n",
              "      padding: 0 0 0 0;\n",
              "      width: 32px;\n",
              "    }\n",
              "\n",
              "    .colab-df-convert:hover {\n",
              "      background-color: #E2EBFA;\n",
              "      box-shadow: 0px 1px 2px rgba(60, 64, 67, 0.3), 0px 1px 3px 1px rgba(60, 64, 67, 0.15);\n",
              "      fill: #174EA6;\n",
              "    }\n",
              "\n",
              "    [theme=dark] .colab-df-convert {\n",
              "      background-color: #3B4455;\n",
              "      fill: #D2E3FC;\n",
              "    }\n",
              "\n",
              "    [theme=dark] .colab-df-convert:hover {\n",
              "      background-color: #434B5C;\n",
              "      box-shadow: 0px 1px 3px 1px rgba(0, 0, 0, 0.15);\n",
              "      filter: drop-shadow(0px 1px 2px rgba(0, 0, 0, 0.3));\n",
              "      fill: #FFFFFF;\n",
              "    }\n",
              "  </style>\n",
              "\n",
              "      <script>\n",
              "        const buttonEl =\n",
              "          document.querySelector('#df-137b6a7e-1fcb-49af-b4ad-ebb947cd9fc0 button.colab-df-convert');\n",
              "        buttonEl.style.display =\n",
              "          google.colab.kernel.accessAllowed ? 'block' : 'none';\n",
              "\n",
              "        async function convertToInteractive(key) {\n",
              "          const element = document.querySelector('#df-137b6a7e-1fcb-49af-b4ad-ebb947cd9fc0');\n",
              "          const dataTable =\n",
              "            await google.colab.kernel.invokeFunction('convertToInteractive',\n",
              "                                                     [key], {});\n",
              "          if (!dataTable) return;\n",
              "\n",
              "          const docLinkHtml = 'Like what you see? Visit the ' +\n",
              "            '<a target=\"_blank\" href=https://colab.research.google.com/notebooks/data_table.ipynb>data table notebook</a>'\n",
              "            + ' to learn more about interactive tables.';\n",
              "          element.innerHTML = '';\n",
              "          dataTable['output_type'] = 'display_data';\n",
              "          await google.colab.output.renderOutput(dataTable, element);\n",
              "          const docLink = document.createElement('div');\n",
              "          docLink.innerHTML = docLinkHtml;\n",
              "          element.appendChild(docLink);\n",
              "        }\n",
              "      </script>\n",
              "    </div>\n",
              "  </div>\n",
              "  "
            ]
          },
          "metadata": {},
          "execution_count": 13
        }
      ]
    },
    {
      "cell_type": "markdown",
      "metadata": {
        "id": "pTx-bJbHy1ci"
      },
      "source": [
        "Also sorting is done easily:"
      ]
    },
    {
      "cell_type": "code",
      "metadata": {
        "id": "f4znYF40y1ci",
        "outputId": "46586de0-3e43-48ef-a412-1ddbe3537fc3",
        "colab": {
          "base_uri": "https://localhost:8080/",
          "height": 708
        }
      },
      "source": [
        "pop_df.sort_values(by=['hare'])"
      ],
      "execution_count": null,
      "outputs": [
        {
          "output_type": "execute_result",
          "data": {
            "text/plain": [
              "    year     hare     lynx  carrot\n",
              "17  1917   7600.0  15800.0   41800\n",
              "16  1916  11200.0  29700.0   36700\n",
              "18  1918  14600.0   9700.0   43300\n",
              "19  1919  16200.0  10100.0   41300\n",
              "6   1906  18100.0  19000.0   38600\n",
              "15  1915  19500.0  51100.0   39000\n",
              "5   1905  20600.0  41700.0   39800\n",
              "7   1907  21400.0  13000.0   42300\n",
              "8   1908  22000.0   8300.0   44500\n",
              "20  1920  24700.0   8600.0   47300\n",
              "9   1909  25400.0   9100.0   42100\n",
              "10  1910  27100.0   7400.0   46000\n",
              "0   1900  30000.0   4000.0   48300\n",
              "4   1904  36300.0  59400.0   40600\n",
              "11  1911  40300.0   8000.0   46800\n",
              "1   1901  47200.0   6100.0   48200\n",
              "14  1914  52300.0  45700.0   39400\n",
              "12  1912  57000.0  12300.0   43800\n",
              "2   1902  70200.0   9800.0   41500\n",
              "13  1913  76600.0  19500.0   40900\n",
              "3   1903  77400.0  35200.0   38200"
            ],
            "text/html": [
              "\n",
              "  <div id=\"df-707f7323-5c8e-4b00-a03e-057673d1f3ce\">\n",
              "    <div class=\"colab-df-container\">\n",
              "      <div>\n",
              "<style scoped>\n",
              "    .dataframe tbody tr th:only-of-type {\n",
              "        vertical-align: middle;\n",
              "    }\n",
              "\n",
              "    .dataframe tbody tr th {\n",
              "        vertical-align: top;\n",
              "    }\n",
              "\n",
              "    .dataframe thead th {\n",
              "        text-align: right;\n",
              "    }\n",
              "</style>\n",
              "<table border=\"1\" class=\"dataframe\">\n",
              "  <thead>\n",
              "    <tr style=\"text-align: right;\">\n",
              "      <th></th>\n",
              "      <th>year</th>\n",
              "      <th>hare</th>\n",
              "      <th>lynx</th>\n",
              "      <th>carrot</th>\n",
              "    </tr>\n",
              "  </thead>\n",
              "  <tbody>\n",
              "    <tr>\n",
              "      <th>17</th>\n",
              "      <td>1917</td>\n",
              "      <td>7600.0</td>\n",
              "      <td>15800.0</td>\n",
              "      <td>41800</td>\n",
              "    </tr>\n",
              "    <tr>\n",
              "      <th>16</th>\n",
              "      <td>1916</td>\n",
              "      <td>11200.0</td>\n",
              "      <td>29700.0</td>\n",
              "      <td>36700</td>\n",
              "    </tr>\n",
              "    <tr>\n",
              "      <th>18</th>\n",
              "      <td>1918</td>\n",
              "      <td>14600.0</td>\n",
              "      <td>9700.0</td>\n",
              "      <td>43300</td>\n",
              "    </tr>\n",
              "    <tr>\n",
              "      <th>19</th>\n",
              "      <td>1919</td>\n",
              "      <td>16200.0</td>\n",
              "      <td>10100.0</td>\n",
              "      <td>41300</td>\n",
              "    </tr>\n",
              "    <tr>\n",
              "      <th>6</th>\n",
              "      <td>1906</td>\n",
              "      <td>18100.0</td>\n",
              "      <td>19000.0</td>\n",
              "      <td>38600</td>\n",
              "    </tr>\n",
              "    <tr>\n",
              "      <th>15</th>\n",
              "      <td>1915</td>\n",
              "      <td>19500.0</td>\n",
              "      <td>51100.0</td>\n",
              "      <td>39000</td>\n",
              "    </tr>\n",
              "    <tr>\n",
              "      <th>5</th>\n",
              "      <td>1905</td>\n",
              "      <td>20600.0</td>\n",
              "      <td>41700.0</td>\n",
              "      <td>39800</td>\n",
              "    </tr>\n",
              "    <tr>\n",
              "      <th>7</th>\n",
              "      <td>1907</td>\n",
              "      <td>21400.0</td>\n",
              "      <td>13000.0</td>\n",
              "      <td>42300</td>\n",
              "    </tr>\n",
              "    <tr>\n",
              "      <th>8</th>\n",
              "      <td>1908</td>\n",
              "      <td>22000.0</td>\n",
              "      <td>8300.0</td>\n",
              "      <td>44500</td>\n",
              "    </tr>\n",
              "    <tr>\n",
              "      <th>20</th>\n",
              "      <td>1920</td>\n",
              "      <td>24700.0</td>\n",
              "      <td>8600.0</td>\n",
              "      <td>47300</td>\n",
              "    </tr>\n",
              "    <tr>\n",
              "      <th>9</th>\n",
              "      <td>1909</td>\n",
              "      <td>25400.0</td>\n",
              "      <td>9100.0</td>\n",
              "      <td>42100</td>\n",
              "    </tr>\n",
              "    <tr>\n",
              "      <th>10</th>\n",
              "      <td>1910</td>\n",
              "      <td>27100.0</td>\n",
              "      <td>7400.0</td>\n",
              "      <td>46000</td>\n",
              "    </tr>\n",
              "    <tr>\n",
              "      <th>0</th>\n",
              "      <td>1900</td>\n",
              "      <td>30000.0</td>\n",
              "      <td>4000.0</td>\n",
              "      <td>48300</td>\n",
              "    </tr>\n",
              "    <tr>\n",
              "      <th>4</th>\n",
              "      <td>1904</td>\n",
              "      <td>36300.0</td>\n",
              "      <td>59400.0</td>\n",
              "      <td>40600</td>\n",
              "    </tr>\n",
              "    <tr>\n",
              "      <th>11</th>\n",
              "      <td>1911</td>\n",
              "      <td>40300.0</td>\n",
              "      <td>8000.0</td>\n",
              "      <td>46800</td>\n",
              "    </tr>\n",
              "    <tr>\n",
              "      <th>1</th>\n",
              "      <td>1901</td>\n",
              "      <td>47200.0</td>\n",
              "      <td>6100.0</td>\n",
              "      <td>48200</td>\n",
              "    </tr>\n",
              "    <tr>\n",
              "      <th>14</th>\n",
              "      <td>1914</td>\n",
              "      <td>52300.0</td>\n",
              "      <td>45700.0</td>\n",
              "      <td>39400</td>\n",
              "    </tr>\n",
              "    <tr>\n",
              "      <th>12</th>\n",
              "      <td>1912</td>\n",
              "      <td>57000.0</td>\n",
              "      <td>12300.0</td>\n",
              "      <td>43800</td>\n",
              "    </tr>\n",
              "    <tr>\n",
              "      <th>2</th>\n",
              "      <td>1902</td>\n",
              "      <td>70200.0</td>\n",
              "      <td>9800.0</td>\n",
              "      <td>41500</td>\n",
              "    </tr>\n",
              "    <tr>\n",
              "      <th>13</th>\n",
              "      <td>1913</td>\n",
              "      <td>76600.0</td>\n",
              "      <td>19500.0</td>\n",
              "      <td>40900</td>\n",
              "    </tr>\n",
              "    <tr>\n",
              "      <th>3</th>\n",
              "      <td>1903</td>\n",
              "      <td>77400.0</td>\n",
              "      <td>35200.0</td>\n",
              "      <td>38200</td>\n",
              "    </tr>\n",
              "  </tbody>\n",
              "</table>\n",
              "</div>\n",
              "      <button class=\"colab-df-convert\" onclick=\"convertToInteractive('df-707f7323-5c8e-4b00-a03e-057673d1f3ce')\"\n",
              "              title=\"Convert this dataframe to an interactive table.\"\n",
              "              style=\"display:none;\">\n",
              "        \n",
              "  <svg xmlns=\"http://www.w3.org/2000/svg\" height=\"24px\"viewBox=\"0 0 24 24\"\n",
              "       width=\"24px\">\n",
              "    <path d=\"M0 0h24v24H0V0z\" fill=\"none\"/>\n",
              "    <path d=\"M18.56 5.44l.94 2.06.94-2.06 2.06-.94-2.06-.94-.94-2.06-.94 2.06-2.06.94zm-11 1L8.5 8.5l.94-2.06 2.06-.94-2.06-.94L8.5 2.5l-.94 2.06-2.06.94zm10 10l.94 2.06.94-2.06 2.06-.94-2.06-.94-.94-2.06-.94 2.06-2.06.94z\"/><path d=\"M17.41 7.96l-1.37-1.37c-.4-.4-.92-.59-1.43-.59-.52 0-1.04.2-1.43.59L10.3 9.45l-7.72 7.72c-.78.78-.78 2.05 0 2.83L4 21.41c.39.39.9.59 1.41.59.51 0 1.02-.2 1.41-.59l7.78-7.78 2.81-2.81c.8-.78.8-2.07 0-2.86zM5.41 20L4 18.59l7.72-7.72 1.47 1.35L5.41 20z\"/>\n",
              "  </svg>\n",
              "      </button>\n",
              "      \n",
              "  <style>\n",
              "    .colab-df-container {\n",
              "      display:flex;\n",
              "      flex-wrap:wrap;\n",
              "      gap: 12px;\n",
              "    }\n",
              "\n",
              "    .colab-df-convert {\n",
              "      background-color: #E8F0FE;\n",
              "      border: none;\n",
              "      border-radius: 50%;\n",
              "      cursor: pointer;\n",
              "      display: none;\n",
              "      fill: #1967D2;\n",
              "      height: 32px;\n",
              "      padding: 0 0 0 0;\n",
              "      width: 32px;\n",
              "    }\n",
              "\n",
              "    .colab-df-convert:hover {\n",
              "      background-color: #E2EBFA;\n",
              "      box-shadow: 0px 1px 2px rgba(60, 64, 67, 0.3), 0px 1px 3px 1px rgba(60, 64, 67, 0.15);\n",
              "      fill: #174EA6;\n",
              "    }\n",
              "\n",
              "    [theme=dark] .colab-df-convert {\n",
              "      background-color: #3B4455;\n",
              "      fill: #D2E3FC;\n",
              "    }\n",
              "\n",
              "    [theme=dark] .colab-df-convert:hover {\n",
              "      background-color: #434B5C;\n",
              "      box-shadow: 0px 1px 3px 1px rgba(0, 0, 0, 0.15);\n",
              "      filter: drop-shadow(0px 1px 2px rgba(0, 0, 0, 0.3));\n",
              "      fill: #FFFFFF;\n",
              "    }\n",
              "  </style>\n",
              "\n",
              "      <script>\n",
              "        const buttonEl =\n",
              "          document.querySelector('#df-707f7323-5c8e-4b00-a03e-057673d1f3ce button.colab-df-convert');\n",
              "        buttonEl.style.display =\n",
              "          google.colab.kernel.accessAllowed ? 'block' : 'none';\n",
              "\n",
              "        async function convertToInteractive(key) {\n",
              "          const element = document.querySelector('#df-707f7323-5c8e-4b00-a03e-057673d1f3ce');\n",
              "          const dataTable =\n",
              "            await google.colab.kernel.invokeFunction('convertToInteractive',\n",
              "                                                     [key], {});\n",
              "          if (!dataTable) return;\n",
              "\n",
              "          const docLinkHtml = 'Like what you see? Visit the ' +\n",
              "            '<a target=\"_blank\" href=https://colab.research.google.com/notebooks/data_table.ipynb>data table notebook</a>'\n",
              "            + ' to learn more about interactive tables.';\n",
              "          element.innerHTML = '';\n",
              "          dataTable['output_type'] = 'display_data';\n",
              "          await google.colab.output.renderOutput(dataTable, element);\n",
              "          const docLink = document.createElement('div');\n",
              "          docLink.innerHTML = docLinkHtml;\n",
              "          element.appendChild(docLink);\n",
              "        }\n",
              "      </script>\n",
              "    </div>\n",
              "  </div>\n",
              "  "
            ]
          },
          "metadata": {},
          "execution_count": 14
        }
      ]
    },
    {
      "cell_type": "markdown",
      "metadata": {
        "id": "6BeYU7d2y1cl"
      },
      "source": [
        "More examples of accessing and manipulating data in dataframes:"
      ]
    },
    {
      "cell_type": "code",
      "metadata": {
        "id": "Z5dTpfO3y1cl",
        "outputId": "f2330f6b-72cf-4d7e-b081-4fee5bf7e24c",
        "colab": {
          "base_uri": "https://localhost:8080/"
        }
      },
      "source": [
        "# finding all instances when the population of hares is above 50k\n",
        "hare_above_50K = pop_df.hare>50000\n",
        "print (hare_above_50K)\n",
        "print (\"\\n\")\n",
        "print (pop_df[hare_above_50K])\n",
        "print (\"\\n\")\n",
        "print (pop_df[hare_above_50K].year)"
      ],
      "execution_count": null,
      "outputs": [
        {
          "output_type": "stream",
          "name": "stdout",
          "text": [
            "0     False\n",
            "1     False\n",
            "2      True\n",
            "3      True\n",
            "4     False\n",
            "5     False\n",
            "6     False\n",
            "7     False\n",
            "8     False\n",
            "9     False\n",
            "10    False\n",
            "11    False\n",
            "12     True\n",
            "13     True\n",
            "14     True\n",
            "15    False\n",
            "16    False\n",
            "17    False\n",
            "18    False\n",
            "19    False\n",
            "20    False\n",
            "Name: hare, dtype: bool\n",
            "\n",
            "\n",
            "    year     hare     lynx  carrot\n",
            "2   1902  70200.0   9800.0   41500\n",
            "3   1903  77400.0  35200.0   38200\n",
            "12  1912  57000.0  12300.0   43800\n",
            "13  1913  76600.0  19500.0   40900\n",
            "14  1914  52300.0  45700.0   39400\n",
            "\n",
            "\n",
            "2     1902\n",
            "3     1903\n",
            "12    1912\n",
            "13    1913\n",
            "14    1914\n",
            "Name: year, dtype: int64\n"
          ]
        }
      ]
    },
    {
      "cell_type": "code",
      "metadata": {
        "id": "vagpvM35y1co",
        "outputId": "84544eca-d832-47b8-babf-9a3de70b9d10",
        "colab": {
          "base_uri": "https://localhost:8080/"
        }
      },
      "source": [
        "# finding all instances when the population of one of the animal species is above 50k\n",
        "above_50K = (pop_df[\"hare\"]>50000) | (pop_df[\"lynx\"]>50000) # Python Bitwise operator '|' means OR\n",
        "print (pop_df[above_50K])\n",
        "#print pop_df[hare_above_50K].year"
      ],
      "execution_count": null,
      "outputs": [
        {
          "output_type": "stream",
          "name": "stdout",
          "text": [
            "    year     hare     lynx  carrot\n",
            "2   1902  70200.0   9800.0   41500\n",
            "3   1903  77400.0  35200.0   38200\n",
            "4   1904  36300.0  59400.0   40600\n",
            "12  1912  57000.0  12300.0   43800\n",
            "13  1913  76600.0  19500.0   40900\n",
            "14  1914  52300.0  45700.0   39400\n",
            "15  1915  19500.0  51100.0   39000\n"
          ]
        }
      ]
    },
    {
      "cell_type": "markdown",
      "metadata": {
        "id": "JgHjnvkXy1cs"
      },
      "source": [
        "We know that the *year* column is only an identifier, so we may not need it in the analysis."
      ]
    },
    {
      "cell_type": "code",
      "metadata": {
        "id": "MTY_IOuIy1ct",
        "outputId": "d0bd3cb9-e2c2-4bfb-bfbc-2a5bc64fb1ff",
        "colab": {
          "base_uri": "https://localhost:8080/",
          "height": 708
        }
      },
      "source": [
        "pop2 = pop_df.drop(\"year\", axis=1)\n",
        "pop2"
      ],
      "execution_count": null,
      "outputs": [
        {
          "output_type": "execute_result",
          "data": {
            "text/plain": [
              "       hare     lynx  carrot\n",
              "0   30000.0   4000.0   48300\n",
              "1   47200.0   6100.0   48200\n",
              "2   70200.0   9800.0   41500\n",
              "3   77400.0  35200.0   38200\n",
              "4   36300.0  59400.0   40600\n",
              "5   20600.0  41700.0   39800\n",
              "6   18100.0  19000.0   38600\n",
              "7   21400.0  13000.0   42300\n",
              "8   22000.0   8300.0   44500\n",
              "9   25400.0   9100.0   42100\n",
              "10  27100.0   7400.0   46000\n",
              "11  40300.0   8000.0   46800\n",
              "12  57000.0  12300.0   43800\n",
              "13  76600.0  19500.0   40900\n",
              "14  52300.0  45700.0   39400\n",
              "15  19500.0  51100.0   39000\n",
              "16  11200.0  29700.0   36700\n",
              "17   7600.0  15800.0   41800\n",
              "18  14600.0   9700.0   43300\n",
              "19  16200.0  10100.0   41300\n",
              "20  24700.0   8600.0   47300"
            ],
            "text/html": [
              "\n",
              "  <div id=\"df-43fe7ce8-0b31-4e3b-a897-cb5d757d13e9\">\n",
              "    <div class=\"colab-df-container\">\n",
              "      <div>\n",
              "<style scoped>\n",
              "    .dataframe tbody tr th:only-of-type {\n",
              "        vertical-align: middle;\n",
              "    }\n",
              "\n",
              "    .dataframe tbody tr th {\n",
              "        vertical-align: top;\n",
              "    }\n",
              "\n",
              "    .dataframe thead th {\n",
              "        text-align: right;\n",
              "    }\n",
              "</style>\n",
              "<table border=\"1\" class=\"dataframe\">\n",
              "  <thead>\n",
              "    <tr style=\"text-align: right;\">\n",
              "      <th></th>\n",
              "      <th>hare</th>\n",
              "      <th>lynx</th>\n",
              "      <th>carrot</th>\n",
              "    </tr>\n",
              "  </thead>\n",
              "  <tbody>\n",
              "    <tr>\n",
              "      <th>0</th>\n",
              "      <td>30000.0</td>\n",
              "      <td>4000.0</td>\n",
              "      <td>48300</td>\n",
              "    </tr>\n",
              "    <tr>\n",
              "      <th>1</th>\n",
              "      <td>47200.0</td>\n",
              "      <td>6100.0</td>\n",
              "      <td>48200</td>\n",
              "    </tr>\n",
              "    <tr>\n",
              "      <th>2</th>\n",
              "      <td>70200.0</td>\n",
              "      <td>9800.0</td>\n",
              "      <td>41500</td>\n",
              "    </tr>\n",
              "    <tr>\n",
              "      <th>3</th>\n",
              "      <td>77400.0</td>\n",
              "      <td>35200.0</td>\n",
              "      <td>38200</td>\n",
              "    </tr>\n",
              "    <tr>\n",
              "      <th>4</th>\n",
              "      <td>36300.0</td>\n",
              "      <td>59400.0</td>\n",
              "      <td>40600</td>\n",
              "    </tr>\n",
              "    <tr>\n",
              "      <th>5</th>\n",
              "      <td>20600.0</td>\n",
              "      <td>41700.0</td>\n",
              "      <td>39800</td>\n",
              "    </tr>\n",
              "    <tr>\n",
              "      <th>6</th>\n",
              "      <td>18100.0</td>\n",
              "      <td>19000.0</td>\n",
              "      <td>38600</td>\n",
              "    </tr>\n",
              "    <tr>\n",
              "      <th>7</th>\n",
              "      <td>21400.0</td>\n",
              "      <td>13000.0</td>\n",
              "      <td>42300</td>\n",
              "    </tr>\n",
              "    <tr>\n",
              "      <th>8</th>\n",
              "      <td>22000.0</td>\n",
              "      <td>8300.0</td>\n",
              "      <td>44500</td>\n",
              "    </tr>\n",
              "    <tr>\n",
              "      <th>9</th>\n",
              "      <td>25400.0</td>\n",
              "      <td>9100.0</td>\n",
              "      <td>42100</td>\n",
              "    </tr>\n",
              "    <tr>\n",
              "      <th>10</th>\n",
              "      <td>27100.0</td>\n",
              "      <td>7400.0</td>\n",
              "      <td>46000</td>\n",
              "    </tr>\n",
              "    <tr>\n",
              "      <th>11</th>\n",
              "      <td>40300.0</td>\n",
              "      <td>8000.0</td>\n",
              "      <td>46800</td>\n",
              "    </tr>\n",
              "    <tr>\n",
              "      <th>12</th>\n",
              "      <td>57000.0</td>\n",
              "      <td>12300.0</td>\n",
              "      <td>43800</td>\n",
              "    </tr>\n",
              "    <tr>\n",
              "      <th>13</th>\n",
              "      <td>76600.0</td>\n",
              "      <td>19500.0</td>\n",
              "      <td>40900</td>\n",
              "    </tr>\n",
              "    <tr>\n",
              "      <th>14</th>\n",
              "      <td>52300.0</td>\n",
              "      <td>45700.0</td>\n",
              "      <td>39400</td>\n",
              "    </tr>\n",
              "    <tr>\n",
              "      <th>15</th>\n",
              "      <td>19500.0</td>\n",
              "      <td>51100.0</td>\n",
              "      <td>39000</td>\n",
              "    </tr>\n",
              "    <tr>\n",
              "      <th>16</th>\n",
              "      <td>11200.0</td>\n",
              "      <td>29700.0</td>\n",
              "      <td>36700</td>\n",
              "    </tr>\n",
              "    <tr>\n",
              "      <th>17</th>\n",
              "      <td>7600.0</td>\n",
              "      <td>15800.0</td>\n",
              "      <td>41800</td>\n",
              "    </tr>\n",
              "    <tr>\n",
              "      <th>18</th>\n",
              "      <td>14600.0</td>\n",
              "      <td>9700.0</td>\n",
              "      <td>43300</td>\n",
              "    </tr>\n",
              "    <tr>\n",
              "      <th>19</th>\n",
              "      <td>16200.0</td>\n",
              "      <td>10100.0</td>\n",
              "      <td>41300</td>\n",
              "    </tr>\n",
              "    <tr>\n",
              "      <th>20</th>\n",
              "      <td>24700.0</td>\n",
              "      <td>8600.0</td>\n",
              "      <td>47300</td>\n",
              "    </tr>\n",
              "  </tbody>\n",
              "</table>\n",
              "</div>\n",
              "      <button class=\"colab-df-convert\" onclick=\"convertToInteractive('df-43fe7ce8-0b31-4e3b-a897-cb5d757d13e9')\"\n",
              "              title=\"Convert this dataframe to an interactive table.\"\n",
              "              style=\"display:none;\">\n",
              "        \n",
              "  <svg xmlns=\"http://www.w3.org/2000/svg\" height=\"24px\"viewBox=\"0 0 24 24\"\n",
              "       width=\"24px\">\n",
              "    <path d=\"M0 0h24v24H0V0z\" fill=\"none\"/>\n",
              "    <path d=\"M18.56 5.44l.94 2.06.94-2.06 2.06-.94-2.06-.94-.94-2.06-.94 2.06-2.06.94zm-11 1L8.5 8.5l.94-2.06 2.06-.94-2.06-.94L8.5 2.5l-.94 2.06-2.06.94zm10 10l.94 2.06.94-2.06 2.06-.94-2.06-.94-.94-2.06-.94 2.06-2.06.94z\"/><path d=\"M17.41 7.96l-1.37-1.37c-.4-.4-.92-.59-1.43-.59-.52 0-1.04.2-1.43.59L10.3 9.45l-7.72 7.72c-.78.78-.78 2.05 0 2.83L4 21.41c.39.39.9.59 1.41.59.51 0 1.02-.2 1.41-.59l7.78-7.78 2.81-2.81c.8-.78.8-2.07 0-2.86zM5.41 20L4 18.59l7.72-7.72 1.47 1.35L5.41 20z\"/>\n",
              "  </svg>\n",
              "      </button>\n",
              "      \n",
              "  <style>\n",
              "    .colab-df-container {\n",
              "      display:flex;\n",
              "      flex-wrap:wrap;\n",
              "      gap: 12px;\n",
              "    }\n",
              "\n",
              "    .colab-df-convert {\n",
              "      background-color: #E8F0FE;\n",
              "      border: none;\n",
              "      border-radius: 50%;\n",
              "      cursor: pointer;\n",
              "      display: none;\n",
              "      fill: #1967D2;\n",
              "      height: 32px;\n",
              "      padding: 0 0 0 0;\n",
              "      width: 32px;\n",
              "    }\n",
              "\n",
              "    .colab-df-convert:hover {\n",
              "      background-color: #E2EBFA;\n",
              "      box-shadow: 0px 1px 2px rgba(60, 64, 67, 0.3), 0px 1px 3px 1px rgba(60, 64, 67, 0.15);\n",
              "      fill: #174EA6;\n",
              "    }\n",
              "\n",
              "    [theme=dark] .colab-df-convert {\n",
              "      background-color: #3B4455;\n",
              "      fill: #D2E3FC;\n",
              "    }\n",
              "\n",
              "    [theme=dark] .colab-df-convert:hover {\n",
              "      background-color: #434B5C;\n",
              "      box-shadow: 0px 1px 3px 1px rgba(0, 0, 0, 0.15);\n",
              "      filter: drop-shadow(0px 1px 2px rgba(0, 0, 0, 0.3));\n",
              "      fill: #FFFFFF;\n",
              "    }\n",
              "  </style>\n",
              "\n",
              "      <script>\n",
              "        const buttonEl =\n",
              "          document.querySelector('#df-43fe7ce8-0b31-4e3b-a897-cb5d757d13e9 button.colab-df-convert');\n",
              "        buttonEl.style.display =\n",
              "          google.colab.kernel.accessAllowed ? 'block' : 'none';\n",
              "\n",
              "        async function convertToInteractive(key) {\n",
              "          const element = document.querySelector('#df-43fe7ce8-0b31-4e3b-a897-cb5d757d13e9');\n",
              "          const dataTable =\n",
              "            await google.colab.kernel.invokeFunction('convertToInteractive',\n",
              "                                                     [key], {});\n",
              "          if (!dataTable) return;\n",
              "\n",
              "          const docLinkHtml = 'Like what you see? Visit the ' +\n",
              "            '<a target=\"_blank\" href=https://colab.research.google.com/notebooks/data_table.ipynb>data table notebook</a>'\n",
              "            + ' to learn more about interactive tables.';\n",
              "          element.innerHTML = '';\n",
              "          dataTable['output_type'] = 'display_data';\n",
              "          await google.colab.output.renderOutput(dataTable, element);\n",
              "          const docLink = document.createElement('div');\n",
              "          docLink.innerHTML = docLinkHtml;\n",
              "          element.appendChild(docLink);\n",
              "        }\n",
              "      </script>\n",
              "    </div>\n",
              "  </div>\n",
              "  "
            ]
          },
          "metadata": {},
          "execution_count": 18
        }
      ]
    },
    {
      "cell_type": "markdown",
      "metadata": {
        "id": "Qniuir8_y1cx"
      },
      "source": [
        "When necessary, we can convert a dataframe (or a series) into a Numpy array:"
      ]
    },
    {
      "cell_type": "code",
      "metadata": {
        "id": "ixkp_4qpy1cy",
        "outputId": "da44d088-f94e-49e9-a3ea-15a194b5f711",
        "colab": {
          "base_uri": "https://localhost:8080/"
        }
      },
      "source": [
        "poptable = np.array(pop2)\n",
        "poptable"
      ],
      "execution_count": null,
      "outputs": [
        {
          "output_type": "execute_result",
          "data": {
            "text/plain": [
              "array([[30000.,  4000., 48300.],\n",
              "       [47200.,  6100., 48200.],\n",
              "       [70200.,  9800., 41500.],\n",
              "       [77400., 35200., 38200.],\n",
              "       [36300., 59400., 40600.],\n",
              "       [20600., 41700., 39800.],\n",
              "       [18100., 19000., 38600.],\n",
              "       [21400., 13000., 42300.],\n",
              "       [22000.,  8300., 44500.],\n",
              "       [25400.,  9100., 42100.],\n",
              "       [27100.,  7400., 46000.],\n",
              "       [40300.,  8000., 46800.],\n",
              "       [57000., 12300., 43800.],\n",
              "       [76600., 19500., 40900.],\n",
              "       [52300., 45700., 39400.],\n",
              "       [19500., 51100., 39000.],\n",
              "       [11200., 29700., 36700.],\n",
              "       [ 7600., 15800., 41800.],\n",
              "       [14600.,  9700., 43300.],\n",
              "       [16200., 10100., 41300.],\n",
              "       [24700.,  8600., 47300.]])"
            ]
          },
          "metadata": {},
          "execution_count": 19
        }
      ]
    },
    {
      "cell_type": "markdown",
      "metadata": {
        "id": "6uQzxsSty1c2"
      },
      "source": [
        "# Data Visualization"
      ]
    },
    {
      "cell_type": "code",
      "metadata": {
        "id": "enGGA1kUy1c2"
      },
      "source": [
        "%matplotlib inline\n",
        "import matplotlib.pyplot as plt\n",
        "plt.style.use('ggplot')"
      ],
      "execution_count": null,
      "outputs": []
    },
    {
      "cell_type": "code",
      "metadata": {
        "id": "NjquAdk2y1c6",
        "outputId": "5d0ef986-0317-423b-dcbd-28acb8b16d17",
        "colab": {
          "base_uri": "https://localhost:8080/",
          "height": 284
        }
      },
      "source": [
        "plt.plot(pop_df[\"year\"], pop_df[\"hare\"])"
      ],
      "execution_count": null,
      "outputs": [
        {
          "output_type": "execute_result",
          "data": {
            "text/plain": [
              "[<matplotlib.lines.Line2D at 0x7f7152a30460>]"
            ]
          },
          "metadata": {},
          "execution_count": 21
        },
        {
          "output_type": "display_data",
          "data": {
            "text/plain": [
              "<Figure size 432x288 with 1 Axes>"
            ],
            "image/png": "[encoded data removed]"
          },
          "metadata": {}
        }
      ]
    },
    {
      "cell_type": "markdown",
      "metadata": {
        "id": "gczf4C6ay1c9"
      },
      "source": [
        "We can also visualize multiple variables/features in one figure. \n",
        "\n",
        "But you need to make sure:\n",
        "- All data visualized in the same figure should be of the same data type (e.g. you cannot mix continuous and categorical data types in the same figure);\n",
        "- You do not want your visualization to be too busy - below is a good example - but it is **highly discouraged** to include more than **5** variables/features in the same figure."
      ]
    },
    {
      "cell_type": "code",
      "metadata": {
        "id": "pU3zcS3cy1c-",
        "outputId": "38cf6a83-131b-448e-94c5-98073fd8bcd0",
        "colab": {
          "base_uri": "https://localhost:8080/",
          "height": 283
        }
      },
      "source": [
        "plt.plot(pop_df[\"year\"], pop2, label=['Hares','Lynxes','Carrots'])\n",
        "plt.legend( ('Hares','Lynxes','Carrots') )\n",
        "plt.ylabel('Population')\n",
        "plt.xlabel('Year')\n",
        "plt.show()"
      ],
      "execution_count": null,
      "outputs": [
        {
          "output_type": "display_data",
          "data": {
            "text/plain": [
              "<Figure size 432x288 with 1 Axes>"
            ],
            "image/png": "[encoded data removed]"
          },
          "metadata": {}
        }
      ]
    },
    {
      "cell_type": "markdown",
      "metadata": {
        "id": "ih6DvQB9y1dC"
      },
      "source": [
        "Line charts look good at visualizing **continuous** variables (particularly when they are time series like what we have here); but they are not useful when dealing with **categorical** variables. \n",
        "\n",
        "Below is a way of dealing with **categorical** variables."
      ]
    },
    {
      "cell_type": "code",
      "metadata": {
        "id": "3EQgDQTAy1dD",
        "outputId": "79fe4d48-0f62-461e-836e-08736e4232c6",
        "colab": {
          "base_uri": "https://localhost:8080/",
          "height": 316
        }
      },
      "source": [
        "plt.hist(pop_df[\"carrot\"], bins=8, alpha=0.5)\n",
        "plt.xlabel('Carrots')\n",
        "plt.ylabel('Count')\n",
        "plt.title('Histogram of Carrot Populaions')\n",
        "plt.axis([36000, 49000, 0, 6])\n",
        "#plt.grid(True)"
      ],
      "execution_count": null,
      "outputs": [
        {
          "output_type": "execute_result",
          "data": {
            "text/plain": [
              "(36000.0, 49000.0, 0.0, 6.0)"
            ]
          },
          "metadata": {},
          "execution_count": 23
        },
        {
          "output_type": "display_data",
          "data": {
            "text/plain": [
              "<Figure size 432x288 with 1 Axes>"
            ],
            "image/png": "[encoded data removed]"
          },
          "metadata": {}
        }
      ]
    },
    {
      "cell_type": "markdown",
      "metadata": {
        "id": "uOoftCo8y1dH"
      },
      "source": [
        "Pandas has its own versatile \"plot\" method that can handle most types of charts:"
      ]
    },
    {
      "cell_type": "code",
      "metadata": {
        "id": "h7HAdZ-oy1dH",
        "outputId": "09847b4b-fd52-4d3e-f686-f50c7a9caf15",
        "colab": {
          "base_uri": "https://localhost:8080/",
          "height": 316
        }
      },
      "source": [
        "pop_df.plot(x=\"year\", title=\"Populations\")"
      ],
      "execution_count": null,
      "outputs": [
        {
          "output_type": "execute_result",
          "data": {
            "text/plain": [
              "<matplotlib.axes._subplots.AxesSubplot at 0x7f7152908a00>"
            ]
          },
          "metadata": {},
          "execution_count": 24
        },
        {
          "output_type": "display_data",
          "data": {
            "text/plain": [
              "<Figure size 432x288 with 1 Axes>"
            ],
            "image/png": "[encoded data removed]"
          },
          "metadata": {}
        }
      ]
    },
    {
      "cell_type": "markdown",
      "metadata": {
        "id": "o36sN3Pmy1dL"
      },
      "source": [
        "When we want to investigate the cross-variable relationship, we can use **scatterplot** as following."
      ]
    },
    {
      "cell_type": "code",
      "metadata": {
        "id": "idaiPp43y1dM",
        "outputId": "ec28c9aa-901f-4068-9072-31600204659b",
        "colab": {
          "base_uri": "https://localhost:8080/",
          "height": 299
        }
      },
      "source": [
        "pop_df.plot(x=\"carrot\", y=\"lynx\", kind=\"scatter\")"
      ],
      "execution_count": null,
      "outputs": [
        {
          "output_type": "execute_result",
          "data": {
            "text/plain": [
              "<matplotlib.axes._subplots.AxesSubplot at 0x7f7152852370>"
            ]
          },
          "metadata": {},
          "execution_count": 25
        },
        {
          "output_type": "display_data",
          "data": {
            "text/plain": [
              "<Figure size 432x288 with 1 Axes>"
            ],
            "image/png": "[encoded data removed]"
          },
          "metadata": {}
        }
      ]
    },
    {
      "cell_type": "markdown",
      "metadata": {
        "id": "hlH8YFg-y1dO"
      },
      "source": [
        "## YOUR TURN HERE\n",
        "\n",
        "Q: Can you explain the relationship between 'lynx' and 'carrot'? Do they have any linear relationship?\n",
        "\n",
        "**A: The relationship appears to be negative relationship. As carrot increases, Lynx tends to decrease.  There seems to be an outlier around 41000 carrot and 60000 Lynx**"
      ]
    },
    {
      "cell_type": "markdown",
      "metadata": {
        "id": "r6HsMFJZy1dP"
      },
      "source": [
        "Boxplot is another visualization tool when investigating the distribution of continuous variables. In a boxplot:\n",
        "- the box is the **confidence interval** of the values of a certain variable;\n",
        "- the attenas (above and below the box) are the **actual range (min. to max.)**;\n",
        "- the line in the box is the **mean (average) value** of the variable.\n",
        "\n",
        "You can use the boxplot to investigate the distribution of the variable - this is the same as checking the 'bell curve' in the distribution chart. For instance, in the chart below, both 'hare' and 'lynx' are right-skewed, while 'carrot' is in a normal (but narrow) distribution."
      ]
    },
    {
      "cell_type": "code",
      "metadata": {
        "id": "qN-F5Zjdy1dP",
        "outputId": "7e5f3333-eb47-4666-df98-e40c44251505",
        "colab": {
          "base_uri": "https://localhost:8080/",
          "height": 283
        }
      },
      "source": [
        "pop_df.boxplot(column=[\"hare\",\"lynx\",\"carrot\"], return_type='axes')"
      ],
      "execution_count": null,
      "outputs": [
        {
          "output_type": "execute_result",
          "data": {
            "text/plain": [
              "<matplotlib.axes._subplots.AxesSubplot at 0x7f71527bab80>"
            ]
          },
          "metadata": {},
          "execution_count": 26
        },
        {
          "output_type": "display_data",
          "data": {
            "text/plain": [
              "<Figure size 432x288 with 1 Axes>"
            ],
            "image/png": "[encoded data removed]"
          },
          "metadata": {}
        }
      ]
    },
    {
      "cell_type": "code",
      "metadata": {
        "id": "_uNNYVuky1dR",
        "outputId": "14a9d1c1-7759-4b33-f65f-6bc2cf8f1dcb",
        "colab": {
          "base_uri": "https://localhost:8080/"
        }
      },
      "source": [
        "fox_col = np.random.randint(low=5000, high=20000, size=21) # 'randint' method chooses a random value between 5000 and 2000, #size 21 to select 21 random integers\n",
        "fox_col"
      ],
      "execution_count": null,
      "outputs": [
        {
          "output_type": "execute_result",
          "data": {
            "text/plain": [
              "array([15030, 10114,  9382,  7204, 12139,  5025,  9505, 16881, 16440,\n",
              "        8066, 16529,  7202, 15552, 16096, 17589, 18042, 12486, 18934,\n",
              "        7933, 11005,  5460])"
            ]
          },
          "metadata": {},
          "execution_count": 27
        }
      ]
    },
    {
      "cell_type": "code",
      "metadata": {
        "id": "9FybUPW5y1dT",
        "outputId": "d691466b-e080-4236-a90f-34b9365d36d3",
        "colab": {
          "base_uri": "https://localhost:8080/",
          "height": 708
        }
      },
      "source": [
        "pop_df[\"fox\"] = pd.Series(fox_col, index=pop_df.index) # create a new feature \"fox\" and asigns its values from 'fox_col'\n",
        "pop_df                                                 # row index/label assigned to the DataFrame 'pop_df', indexing always \n",
        "                                                       # starts from zero"
      ],
      "execution_count": null,
      "outputs": [
        {
          "output_type": "execute_result",
          "data": {
            "text/plain": [
              "    year     hare     lynx  carrot    fox\n",
              "0   1900  30000.0   4000.0   48300  15030\n",
              "1   1901  47200.0   6100.0   48200  10114\n",
              "2   1902  70200.0   9800.0   41500   9382\n",
              "3   1903  77400.0  35200.0   38200   7204\n",
              "4   1904  36300.0  59400.0   40600  12139\n",
              "5   1905  20600.0  41700.0   39800   5025\n",
              "6   1906  18100.0  19000.0   38600   9505\n",
              "7   1907  21400.0  13000.0   42300  16881\n",
              "8   1908  22000.0   8300.0   44500  16440\n",
              "9   1909  25400.0   9100.0   42100   8066\n",
              "10  1910  27100.0   7400.0   46000  16529\n",
              "11  1911  40300.0   8000.0   46800   7202\n",
              "12  1912  57000.0  12300.0   43800  15552\n",
              "13  1913  76600.0  19500.0   40900  16096\n",
              "14  1914  52300.0  45700.0   39400  17589\n",
              "15  1915  19500.0  51100.0   39000  18042\n",
              "16  1916  11200.0  29700.0   36700  12486\n",
              "17  1917   7600.0  15800.0   41800  18934\n",
              "18  1918  14600.0   9700.0   43300   7933\n",
              "19  1919  16200.0  10100.0   41300  11005\n",
              "20  1920  24700.0   8600.0   47300   5460"
            ],
            "text/html": [
              "\n",
              "  <div id=\"df-6aed79a9-c514-47cc-8c7c-783373b6bafe\">\n",
              "    <div class=\"colab-df-container\">\n",
              "      <div>\n",
              "<style scoped>\n",
              "    .dataframe tbody tr th:only-of-type {\n",
              "        vertical-align: middle;\n",
              "    }\n",
              "\n",
              "    .dataframe tbody tr th {\n",
              "        vertical-align: top;\n",
              "    }\n",
              "\n",
              "    .dataframe thead th {\n",
              "        text-align: right;\n",
              "    }\n",
              "</style>\n",
              "<table border=\"1\" class=\"dataframe\">\n",
              "  <thead>\n",
              "    <tr style=\"text-align: right;\">\n",
              "      <th></th>\n",
              "      <th>year</th>\n",
              "      <th>hare</th>\n",
              "      <th>lynx</th>\n",
              "      <th>carrot</th>\n",
              "      <th>fox</th>\n",
              "    </tr>\n",
              "  </thead>\n",
              "  <tbody>\n",
              "    <tr>\n",
              "      <th>0</th>\n",
              "      <td>1900</td>\n",
              "      <td>30000.0</td>\n",
              "      <td>4000.0</td>\n",
              "      <td>48300</td>\n",
              "      <td>15030</td>\n",
              "    </tr>\n",
              "    <tr>\n",
              "      <th>1</th>\n",
              "      <td>1901</td>\n",
              "      <td>47200.0</td>\n",
              "      <td>6100.0</td>\n",
              "      <td>48200</td>\n",
              "      <td>10114</td>\n",
              "    </tr>\n",
              "    <tr>\n",
              "      <th>2</th>\n",
              "      <td>1902</td>\n",
              "      <td>70200.0</td>\n",
              "      <td>9800.0</td>\n",
              "      <td>41500</td>\n",
              "      <td>9382</td>\n",
              "    </tr>\n",
              "    <tr>\n",
              "      <th>3</th>\n",
              "      <td>1903</td>\n",
              "      <td>77400.0</td>\n",
              "      <td>35200.0</td>\n",
              "      <td>38200</td>\n",
              "      <td>7204</td>\n",
              "    </tr>\n",
              "    <tr>\n",
              "      <th>4</th>\n",
              "      <td>1904</td>\n",
              "      <td>36300.0</td>\n",
              "      <td>59400.0</td>\n",
              "      <td>40600</td>\n",
              "      <td>12139</td>\n",
              "    </tr>\n",
              "    <tr>\n",
              "      <th>5</th>\n",
              "      <td>1905</td>\n",
              "      <td>20600.0</td>\n",
              "      <td>41700.0</td>\n",
              "      <td>39800</td>\n",
              "      <td>5025</td>\n",
              "    </tr>\n",
              "    <tr>\n",
              "      <th>6</th>\n",
              "      <td>1906</td>\n",
              "      <td>18100.0</td>\n",
              "      <td>19000.0</td>\n",
              "      <td>38600</td>\n",
              "      <td>9505</td>\n",
              "    </tr>\n",
              "    <tr>\n",
              "      <th>7</th>\n",
              "      <td>1907</td>\n",
              "      <td>21400.0</td>\n",
              "      <td>13000.0</td>\n",
              "      <td>42300</td>\n",
              "      <td>16881</td>\n",
              "    </tr>\n",
              "    <tr>\n",
              "      <th>8</th>\n",
              "      <td>1908</td>\n",
              "      <td>22000.0</td>\n",
              "      <td>8300.0</td>\n",
              "      <td>44500</td>\n",
              "      <td>16440</td>\n",
              "    </tr>\n",
              "    <tr>\n",
              "      <th>9</th>\n",
              "      <td>1909</td>\n",
              "      <td>25400.0</td>\n",
              "      <td>9100.0</td>\n",
              "      <td>42100</td>\n",
              "      <td>8066</td>\n",
              "    </tr>\n",
              "    <tr>\n",
              "      <th>10</th>\n",
              "      <td>1910</td>\n",
              "      <td>27100.0</td>\n",
              "      <td>7400.0</td>\n",
              "      <td>46000</td>\n",
              "      <td>16529</td>\n",
              "    </tr>\n",
              "    <tr>\n",
              "      <th>11</th>\n",
              "      <td>1911</td>\n",
              "      <td>40300.0</td>\n",
              "      <td>8000.0</td>\n",
              "      <td>46800</td>\n",
              "      <td>7202</td>\n",
              "    </tr>\n",
              "    <tr>\n",
              "      <th>12</th>\n",
              "      <td>1912</td>\n",
              "      <td>57000.0</td>\n",
              "      <td>12300.0</td>\n",
              "      <td>43800</td>\n",
              "      <td>15552</td>\n",
              "    </tr>\n",
              "    <tr>\n",
              "      <th>13</th>\n",
              "      <td>1913</td>\n",
              "      <td>76600.0</td>\n",
              "      <td>19500.0</td>\n",
              "      <td>40900</td>\n",
              "      <td>16096</td>\n",
              "    </tr>\n",
              "    <tr>\n",
              "      <th>14</th>\n",
              "      <td>1914</td>\n",
              "      <td>52300.0</td>\n",
              "      <td>45700.0</td>\n",
              "      <td>39400</td>\n",
              "      <td>17589</td>\n",
              "    </tr>\n",
              "    <tr>\n",
              "      <th>15</th>\n",
              "      <td>1915</td>\n",
              "      <td>19500.0</td>\n",
              "      <td>51100.0</td>\n",
              "      <td>39000</td>\n",
              "      <td>18042</td>\n",
              "    </tr>\n",
              "    <tr>\n",
              "      <th>16</th>\n",
              "      <td>1916</td>\n",
              "      <td>11200.0</td>\n",
              "      <td>29700.0</td>\n",
              "      <td>36700</td>\n",
              "      <td>12486</td>\n",
              "    </tr>\n",
              "    <tr>\n",
              "      <th>17</th>\n",
              "      <td>1917</td>\n",
              "      <td>7600.0</td>\n",
              "      <td>15800.0</td>\n",
              "      <td>41800</td>\n",
              "      <td>18934</td>\n",
              "    </tr>\n",
              "    <tr>\n",
              "      <th>18</th>\n",
              "      <td>1918</td>\n",
              "      <td>14600.0</td>\n",
              "      <td>9700.0</td>\n",
              "      <td>43300</td>\n",
              "      <td>7933</td>\n",
              "    </tr>\n",
              "    <tr>\n",
              "      <th>19</th>\n",
              "      <td>1919</td>\n",
              "      <td>16200.0</td>\n",
              "      <td>10100.0</td>\n",
              "      <td>41300</td>\n",
              "      <td>11005</td>\n",
              "    </tr>\n",
              "    <tr>\n",
              "      <th>20</th>\n",
              "      <td>1920</td>\n",
              "      <td>24700.0</td>\n",
              "      <td>8600.0</td>\n",
              "      <td>47300</td>\n",
              "      <td>5460</td>\n",
              "    </tr>\n",
              "  </tbody>\n",
              "</table>\n",
              "</div>\n",
              "      <button class=\"colab-df-convert\" onclick=\"convertToInteractive('df-6aed79a9-c514-47cc-8c7c-783373b6bafe')\"\n",
              "              title=\"Convert this dataframe to an interactive table.\"\n",
              "              style=\"display:none;\">\n",
              "        \n",
              "  <svg xmlns=\"http://www.w3.org/2000/svg\" height=\"24px\"viewBox=\"0 0 24 24\"\n",
              "       width=\"24px\">\n",
              "    <path d=\"M0 0h24v24H0V0z\" fill=\"none\"/>\n",
              "    <path d=\"M18.56 5.44l.94 2.06.94-2.06 2.06-.94-2.06-.94-.94-2.06-.94 2.06-2.06.94zm-11 1L8.5 8.5l.94-2.06 2.06-.94-2.06-.94L8.5 2.5l-.94 2.06-2.06.94zm10 10l.94 2.06.94-2.06 2.06-.94-2.06-.94-.94-2.06-.94 2.06-2.06.94z\"/><path d=\"M17.41 7.96l-1.37-1.37c-.4-.4-.92-.59-1.43-.59-.52 0-1.04.2-1.43.59L10.3 9.45l-7.72 7.72c-.78.78-.78 2.05 0 2.83L4 21.41c.39.39.9.59 1.41.59.51 0 1.02-.2 1.41-.59l7.78-7.78 2.81-2.81c.8-.78.8-2.07 0-2.86zM5.41 20L4 18.59l7.72-7.72 1.47 1.35L5.41 20z\"/>\n",
              "  </svg>\n",
              "      </button>\n",
              "      \n",
              "  <style>\n",
              "    .colab-df-container {\n",
              "      display:flex;\n",
              "      flex-wrap:wrap;\n",
              "      gap: 12px;\n",
              "    }\n",
              "\n",
              "    .colab-df-convert {\n",
              "      background-color: #E8F0FE;\n",
              "      border: none;\n",
              "      border-radius: 50%;\n",
              "      cursor: pointer;\n",
              "      display: none;\n",
              "      fill: #1967D2;\n",
              "      height: 32px;\n",
              "      padding: 0 0 0 0;\n",
              "      width: 32px;\n",
              "    }\n",
              "\n",
              "    .colab-df-convert:hover {\n",
              "      background-color: #E2EBFA;\n",
              "      box-shadow: 0px 1px 2px rgba(60, 64, 67, 0.3), 0px 1px 3px 1px rgba(60, 64, 67, 0.15);\n",
              "      fill: #174EA6;\n",
              "    }\n",
              "\n",
              "    [theme=dark] .colab-df-convert {\n",
              "      background-color: #3B4455;\n",
              "      fill: #D2E3FC;\n",
              "    }\n",
              "\n",
              "    [theme=dark] .colab-df-convert:hover {\n",
              "      background-color: #434B5C;\n",
              "      box-shadow: 0px 1px 3px 1px rgba(0, 0, 0, 0.15);\n",
              "      filter: drop-shadow(0px 1px 2px rgba(0, 0, 0, 0.3));\n",
              "      fill: #FFFFFF;\n",
              "    }\n",
              "  </style>\n",
              "\n",
              "      <script>\n",
              "        const buttonEl =\n",
              "          document.querySelector('#df-6aed79a9-c514-47cc-8c7c-783373b6bafe button.colab-df-convert');\n",
              "        buttonEl.style.display =\n",
              "          google.colab.kernel.accessAllowed ? 'block' : 'none';\n",
              "\n",
              "        async function convertToInteractive(key) {\n",
              "          const element = document.querySelector('#df-6aed79a9-c514-47cc-8c7c-783373b6bafe');\n",
              "          const dataTable =\n",
              "            await google.colab.kernel.invokeFunction('convertToInteractive',\n",
              "                                                     [key], {});\n",
              "          if (!dataTable) return;\n",
              "\n",
              "          const docLinkHtml = 'Like what you see? Visit the ' +\n",
              "            '<a target=\"_blank\" href=https://colab.research.google.com/notebooks/data_table.ipynb>data table notebook</a>'\n",
              "            + ' to learn more about interactive tables.';\n",
              "          element.innerHTML = '';\n",
              "          dataTable['output_type'] = 'display_data';\n",
              "          await google.colab.output.renderOutput(dataTable, element);\n",
              "          const docLink = document.createElement('div');\n",
              "          docLink.innerHTML = docLinkHtml;\n",
              "          element.appendChild(docLink);\n",
              "        }\n",
              "      </script>\n",
              "    </div>\n",
              "  </div>\n",
              "  "
            ]
          },
          "metadata": {},
          "execution_count": 28
        }
      ]
    },
    {
      "cell_type": "code",
      "metadata": {
        "id": "Ry3Bg41xy1dV",
        "outputId": "14546a8d-e43f-49e1-cd61-25397b8d35cf",
        "colab": {
          "base_uri": "https://localhost:8080/",
          "height": 316
        }
      },
      "source": [
        "pop_df.plot(x=\"year\", y=\"fox\", kind=\"area\", title=\"Fox Population\")"
      ],
      "execution_count": null,
      "outputs": [
        {
          "output_type": "execute_result",
          "data": {
            "text/plain": [
              "<matplotlib.axes._subplots.AxesSubplot at 0x7f715274ba90>"
            ]
          },
          "metadata": {},
          "execution_count": 29
        },
        {
          "output_type": "display_data",
          "data": {
            "text/plain": [
              "<Figure size 432x288 with 1 Axes>"
            ],
            "image/png": "[encoded data removed]"
          },
          "metadata": {}
        }
      ]
    },
    {
      "cell_type": "code",
      "metadata": {
        "id": "6FrObnLQy1dX",
        "outputId": "2c29c88e-3300-466e-c5e8-4ac3d2accc90",
        "colab": {
          "base_uri": "https://localhost:8080/",
          "height": 841
        }
      },
      "source": [
        "pd.plotting.scatter_matrix(pop_df[[\"hare\",\"lynx\",\"carrot\"]], figsize=(14,14), hist_kwds={'bins':8}, alpha=.5, marker='o', s=50);"
      ],
      "execution_count": null,
      "outputs": [
        {
          "output_type": "display_data",
          "data": {
            "text/plain": [
              "<Figure size 1008x1008 with 9 Axes>"
            ],
            "image/png": "[encoded data removed]"
          },
          "metadata": {}
        }
      ]
    },
    {
      "cell_type": "markdown",
      "metadata": {
        "id": "JTrtwD2psA8o"
      },
      "source": [
        "## Answer this question:\n",
        "\n",
        "Compare the visualization above, and the last visualizations in L2, do you think any pair of the three features are __highly__ correlated?\n",
        "\n",
        "**Lynx and carrot seem to be negatively related.  I do not see another other relationships in the above scatter matrix diagram.**"
      ]
    },
    {
      "cell_type": "code",
      "metadata": {
        "id": "8-YzdLpgy1da"
      },
      "source": [],
      "execution_count": null,
      "outputs": []
    }
  ]
}